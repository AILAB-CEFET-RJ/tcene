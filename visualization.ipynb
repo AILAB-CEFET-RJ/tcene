{
 "cells": [
  {
   "cell_type": "code",
   "execution_count": 1,
   "id": "73958e19",
   "metadata": {},
   "outputs": [],
   "source": [
    "import numpy as np\n",
    "import os\n",
    "\n",
    "\n",
    "data = np.load('outputs/embedded_3d.npy')\n",
    "\n",
    "\n",
    "if not os.path.exists('outputs/vectors.tsv'):\n",
    "    np.savetxt(\"outputs/vectors.tsv\", data, delimiter=\"\\t\")\n",
    "    \n",
    "else:\n",
    "    vectors = np.loadtxt(\"outputs/vectors.tsv\", delimiter=\"\\t\")"
   ]
  },
  {
   "cell_type": "markdown",
   "id": "5f20b2c2",
   "metadata": {},
   "source": [
    "### Plotly\n"
   ]
  },
  {
   "cell_type": "code",
   "execution_count": 3,
   "id": "daa74793",
   "metadata": {},
   "outputs": [
    {
     "data": {
      "application/vnd.plotly.v1+json": {
       "config": {
        "plotlyServerURL": "https://plot.ly"
       },
       "data": [
        {
         "hovertemplate": "<b>%{hovertext}</b><br><br>x=%{x}<br>y=%{y}<br>z=%{z}<br>label=%{text}<extra></extra>",
         "hovertext": [
          "0",
          "1",
          "2",
          "3",
          "4",
          "5",
          "6",
          "7",
          "8",
          "9",
          "10",
          "11",
          "12",
          "13",
          "14",
          "15",
          "16",
          "17",
          "18",
          "19",
          "20",
          "21",
          "22",
          "23",
          "24",
          "25",
          "26",
          "27",
          "28",
          "29",
          "30",
          "31",
          "32",
          "33",
          "34",
          "35",
          "36",
          "37",
          "38",
          "39",
          "40",
          "41",
          "42",
          "43",
          "44",
          "45",
          "46",
          "47",
          "48",
          "49",
          "50",
          "51",
          "52",
          "53",
          "54",
          "55",
          "56",
          "57",
          "58",
          "59",
          "60",
          "61",
          "62",
          "63",
          "64",
          "65",
          "66",
          "67",
          "68",
          "69",
          "70",
          "71",
          "72",
          "73",
          "74",
          "75",
          "76",
          "77",
          "78",
          "79",
          "80",
          "81",
          "82",
          "83",
          "84",
          "85",
          "86",
          "87",
          "88",
          "89",
          "90",
          "91",
          "92",
          "93",
          "94",
          "95",
          "96",
          "97",
          "98",
          "99",
          "100",
          "101",
          "102",
          "103",
          "104",
          "105",
          "106",
          "107",
          "108",
          "109",
          "110",
          "111",
          "112",
          "113",
          "114",
          "115",
          "116",
          "117",
          "118",
          "119",
          "120",
          "121",
          "122",
          "123",
          "124",
          "125",
          "126",
          "127",
          "128"
         ],
         "legendgroup": "",
         "marker": {
          "color": "#636efa",
          "symbol": "circle"
         },
         "mode": "markers+text",
         "name": "",
         "scene": "scene",
         "showlegend": false,
         "text": [
          "0",
          "1",
          "2",
          "3",
          "4",
          "5",
          "6",
          "7",
          "8",
          "9",
          "10",
          "11",
          "12",
          "13",
          "14",
          "15",
          "16",
          "17",
          "18",
          "19",
          "20",
          "21",
          "22",
          "23",
          "24",
          "25",
          "26",
          "27",
          "28",
          "29",
          "30",
          "31",
          "32",
          "33",
          "34",
          "35",
          "36",
          "37",
          "38",
          "39",
          "40",
          "41",
          "42",
          "43",
          "44",
          "45",
          "46",
          "47",
          "48",
          "49",
          "50",
          "51",
          "52",
          "53",
          "54",
          "55",
          "56",
          "57",
          "58",
          "59",
          "60",
          "61",
          "62",
          "63",
          "64",
          "65",
          "66",
          "67",
          "68",
          "69",
          "70",
          "71",
          "72",
          "73",
          "74",
          "75",
          "76",
          "77",
          "78",
          "79",
          "80",
          "81",
          "82",
          "83",
          "84",
          "85",
          "86",
          "87",
          "88",
          "89",
          "90",
          "91",
          "92",
          "93",
          "94",
          "95",
          "96",
          "97",
          "98",
          "99",
          "100",
          "101",
          "102",
          "103",
          "104",
          "105",
          "106",
          "107",
          "108",
          "109",
          "110",
          "111",
          "112",
          "113",
          "114",
          "115",
          "116",
          "117",
          "118",
          "119",
          "120",
          "121",
          "122",
          "123",
          "124",
          "125",
          "126",
          "127",
          "128"
         ],
         "type": "scatter3d",
         "x": [
          -0.029306823,
          -0.00843079,
          0.004644918,
          -0.028271403,
          -0.052223593,
          -0.0026143254,
          -0.008235558,
          -0.10305747,
          -0.16183762,
          -0.015400932,
          -0.017943963,
          -0.04641179,
          -0.039978687,
          -0.038884956,
          0.00927918,
          -0.011017297,
          -0.008657476,
          -0.0032768282,
          -0.019641824,
          -0.011401053,
          -0.0016041435,
          -0.016315756,
          -0.068947606,
          -0.011064211,
          -0.030362396,
          -0.009432582,
          -0.028786277,
          -0.03541863,
          -0.0051962775,
          -0.034295496,
          -0.010620815,
          -0.014300657,
          0.008692385,
          -0.009687705,
          -0.01985613,
          -0.004769558,
          -0.009067103,
          -0.008376339,
          -0.011492769,
          -0.007949875,
          -0.06273381,
          -0.015299777,
          -0.09532138,
          -0.015613643,
          -0.0010239844,
          -0.01155264,
          -0.022973415,
          -0.046464533,
          -0.013038058,
          -0.03482612,
          -0.009465881,
          -0.006233666,
          -0.005230243,
          -0.015383872,
          -0.08078573,
          0.009114206,
          0.0055389176,
          -0.020118535,
          -0.021435928,
          -0.009116732,
          -0.095765725,
          -0.02210269,
          -0.02143921,
          -0.013877782,
          -0.014823567,
          -0.013020548,
          -0.0374781,
          -0.06977795,
          -0.010409064,
          -0.02917004,
          -0.014792686,
          -0.0032386687,
          -0.007468143,
          -0.01278289,
          -0.012313019,
          -0.07313709,
          -0.1557177,
          -0.04118285,
          -0.03777093,
          -0.011736963,
          -0.011193481,
          -0.028077574,
          -0.005681336,
          -0.011965288,
          -0.04406141,
          -0.24107836,
          -0.0586965,
          -0.005930495,
          -0.019121444,
          -0.0117129525,
          0.007255693,
          -0.0029063816,
          -0.0065347156,
          0.008176054,
          0.0007369814,
          -0.028066035,
          -0.031652678,
          -0.0012777136,
          0.016324852,
          -0.12864952,
          -0.020404892,
          -0.017627008,
          -0.029559722,
          -0.03809505,
          -0.033233635,
          -0.02934846,
          -0.012763729,
          -0.001087513,
          -0.010145349,
          -0.07036829,
          -0.010431999,
          -0.15755278,
          -0.020718152,
          -0.044471677,
          -0.00539705,
          -0.012365486,
          0.0028492801,
          0.0066269096,
          -0.02228362,
          -0.014137333,
          -0.0034874734,
          -0.0017858848,
          -0.010037199,
          -0.010153357,
          -0.016362114,
          -0.015491852,
          -0.008903674,
          -0.060941834,
          -0.066971324
         ],
         "y": [
          0.026376706,
          0.014817394,
          0.0126479855,
          -0.0034121762,
          -0.0331526,
          0.028887948,
          0.028541606,
          -0.055815924,
          -0.113718346,
          0.0064259986,
          0.00054445193,
          -0.025217839,
          -0.017837955,
          -0.026820514,
          0.014061489,
          0.029343208,
          0.022931194,
          0.026068276,
          0.016914438,
          0.03539597,
          0.02721777,
          0.04074111,
          -0.03690104,
          0.016948236,
          -0.011226587,
          0.013326345,
          0.028860677,
          0.009268228,
          0.026659597,
          -0.008428486,
          0.029345121,
          0.03213916,
          0.019210076,
          0.021501357,
          0.0025866765,
          0.037139088,
          0.020517407,
          0.016945614,
          0.01746152,
          0.016865088,
          -0.032414783,
          0.028631909,
          -0.062082738,
          0.018279571,
          0.015911464,
          0.0022311276,
          0.0009690111,
          -0.014824651,
          0.028033182,
          -0.0022362564,
          0.040990293,
          0.04420711,
          0.045381512,
          0.0057589305,
          -0.044744555,
          0.07076527,
          0.057449233,
          0.00040360756,
          -0.0049511,
          0.033539683,
          -0.06102301,
          0.016846593,
          0.022501031,
          0.0057991827,
          0.011990222,
          0.018018495,
          -0.0012703964,
          -0.049432628,
          0.025662651,
          0.0036009266,
          0.02500222,
          0.010134729,
          0.025809852,
          0.013683045,
          0.020139685,
          -0.047362667,
          -0.07605266,
          0.007701321,
          -0.00861747,
          0.019108249,
          0.019921485,
          0.015107573,
          0.024308907,
          0.009186323,
          -0.01876561,
          -0.20129271,
          -0.037224576,
          0.027775405,
          0.008648447,
          0.013305066,
          0.063344836,
          0.062019866,
          0.02826183,
          0.03190673,
          0.047347616,
          0.003238266,
          -0.0018240431,
          0.052127495,
          0.04768755,
          -0.07422327,
          0.0029605522,
          0.03263614,
          -0.034548044,
          0.008470955,
          0.0026934769,
          -0.0050407858,
          0.061017625,
          0.050488897,
          0.026136056,
          -0.020120302,
          0.02987482,
          -0.11315129,
          0.010259415,
          -0.0016976683,
          0.019457104,
          0.040779106,
          0.06290015,
          0.049193226,
          0.034465015,
          0.026470814,
          0.06457159,
          0.032336615,
          0.04643696,
          0.0483503,
          0.0509934,
          0.05017128,
          0.059614815,
          0.065715864,
          0.061560504
         ],
         "z": [
          0.07036622,
          -0.040133294,
          -0.016188223,
          -0.05671002,
          -0.045579873,
          0.041438997,
          -0.044643845,
          -0.06404767,
          -0.06060383,
          -0.043336395,
          -0.046686437,
          -0.060365416,
          -0.05694911,
          -0.062616915,
          -0.005420966,
          -0.049253087,
          -0.046192262,
          -0.035861336,
          -0.05832668,
          -0.051454067,
          -0.03498857,
          -0.05667902,
          -0.06413874,
          -0.043585792,
          -0.065341435,
          -0.043187816,
          -0.052116487,
          -0.05360516,
          -0.03905261,
          -0.053004555,
          -0.045790177,
          -0.046733223,
          -0.0064319805,
          -0.048345882,
          -0.038140077,
          -0.046895225,
          -0.04630202,
          -0.04355175,
          -0.04960449,
          -0.04114339,
          -0.061381936,
          -0.052625492,
          -0.0749976,
          -0.05548691,
          -0.02638212,
          -0.046174884,
          -0.057979424,
          -0.06106418,
          -0.05277609,
          -0.06262955,
          -0.049232066,
          -0.048116345,
          -0.047390357,
          -0.055973783,
          -0.07328985,
          -0.03991395,
          -0.04400997,
          -0.05423829,
          -0.05553106,
          -0.046268847,
          -0.11681375,
          -0.058253966,
          -0.059595402,
          -0.048924647,
          -0.051136885,
          -0.048547354,
          -0.047327463,
          -0.071247876,
          -0.049953915,
          -0.06564264,
          -0.05241025,
          -0.03920325,
          -0.047734544,
          -0.045587298,
          -0.04863758,
          -0.086168975,
          -0.04794698,
          -0.045780607,
          -0.06766688,
          -0.05189035,
          -0.04158263,
          -0.072260864,
          -0.053837962,
          -0.05437533,
          -0.08544624,
          -0.068858035,
          -0.092108004,
          -0.040933,
          -0.047116924,
          -0.04371996,
          -0.038346417,
          -0.046840515,
          -0.046979357,
          -0.049070653,
          -0.049349055,
          -0.056978654,
          -0.058101032,
          -0.046557598,
          -0.03316563,
          -0.066810876,
          -0.053042714,
          -0.048070878,
          -0.072800435,
          -0.07896683,
          -0.06355575,
          -0.03657122,
          -0.048659362,
          -0.040730596,
          -0.04561294,
          -0.054963123,
          -0.051019322,
          -0.08780867,
          -0.053794935,
          -0.074347265,
          -0.050010417,
          -0.045850676,
          -0.051091075,
          -0.052778367,
          -0.049596895,
          -0.053714838,
          -0.0483298,
          -0.042147152,
          -0.061586898,
          -0.032034002,
          -0.06090654,
          -0.06087908,
          -0.06863882,
          -0.069785655,
          -0.051197227
         ]
        }
       ],
       "layout": {
        "height": 600,
        "legend": {
         "tracegroupgap": 0
        },
        "margin": {
         "t": 60
        },
        "scene": {
         "domain": {
          "x": [
           0,
           1
          ],
          "y": [
           0,
           1
          ]
         },
         "xaxis": {
          "title": {
           "text": "x"
          }
         },
         "yaxis": {
          "title": {
           "text": "y"
          }
         },
         "zaxis": {
          "title": {
           "text": "z"
          }
         }
        },
        "template": {
         "data": {
          "bar": [
           {
            "error_x": {
             "color": "#2a3f5f"
            },
            "error_y": {
             "color": "#2a3f5f"
            },
            "marker": {
             "line": {
              "color": "#E5ECF6",
              "width": 0.5
             },
             "pattern": {
              "fillmode": "overlay",
              "size": 10,
              "solidity": 0.2
             }
            },
            "type": "bar"
           }
          ],
          "barpolar": [
           {
            "marker": {
             "line": {
              "color": "#E5ECF6",
              "width": 0.5
             },
             "pattern": {
              "fillmode": "overlay",
              "size": 10,
              "solidity": 0.2
             }
            },
            "type": "barpolar"
           }
          ],
          "carpet": [
           {
            "aaxis": {
             "endlinecolor": "#2a3f5f",
             "gridcolor": "white",
             "linecolor": "white",
             "minorgridcolor": "white",
             "startlinecolor": "#2a3f5f"
            },
            "baxis": {
             "endlinecolor": "#2a3f5f",
             "gridcolor": "white",
             "linecolor": "white",
             "minorgridcolor": "white",
             "startlinecolor": "#2a3f5f"
            },
            "type": "carpet"
           }
          ],
          "choropleth": [
           {
            "colorbar": {
             "outlinewidth": 0,
             "ticks": ""
            },
            "type": "choropleth"
           }
          ],
          "contour": [
           {
            "colorbar": {
             "outlinewidth": 0,
             "ticks": ""
            },
            "colorscale": [
             [
              0,
              "#0d0887"
             ],
             [
              0.1111111111111111,
              "#46039f"
             ],
             [
              0.2222222222222222,
              "#7201a8"
             ],
             [
              0.3333333333333333,
              "#9c179e"
             ],
             [
              0.4444444444444444,
              "#bd3786"
             ],
             [
              0.5555555555555556,
              "#d8576b"
             ],
             [
              0.6666666666666666,
              "#ed7953"
             ],
             [
              0.7777777777777778,
              "#fb9f3a"
             ],
             [
              0.8888888888888888,
              "#fdca26"
             ],
             [
              1,
              "#f0f921"
             ]
            ],
            "type": "contour"
           }
          ],
          "contourcarpet": [
           {
            "colorbar": {
             "outlinewidth": 0,
             "ticks": ""
            },
            "type": "contourcarpet"
           }
          ],
          "heatmap": [
           {
            "colorbar": {
             "outlinewidth": 0,
             "ticks": ""
            },
            "colorscale": [
             [
              0,
              "#0d0887"
             ],
             [
              0.1111111111111111,
              "#46039f"
             ],
             [
              0.2222222222222222,
              "#7201a8"
             ],
             [
              0.3333333333333333,
              "#9c179e"
             ],
             [
              0.4444444444444444,
              "#bd3786"
             ],
             [
              0.5555555555555556,
              "#d8576b"
             ],
             [
              0.6666666666666666,
              "#ed7953"
             ],
             [
              0.7777777777777778,
              "#fb9f3a"
             ],
             [
              0.8888888888888888,
              "#fdca26"
             ],
             [
              1,
              "#f0f921"
             ]
            ],
            "type": "heatmap"
           }
          ],
          "heatmapgl": [
           {
            "colorbar": {
             "outlinewidth": 0,
             "ticks": ""
            },
            "colorscale": [
             [
              0,
              "#0d0887"
             ],
             [
              0.1111111111111111,
              "#46039f"
             ],
             [
              0.2222222222222222,
              "#7201a8"
             ],
             [
              0.3333333333333333,
              "#9c179e"
             ],
             [
              0.4444444444444444,
              "#bd3786"
             ],
             [
              0.5555555555555556,
              "#d8576b"
             ],
             [
              0.6666666666666666,
              "#ed7953"
             ],
             [
              0.7777777777777778,
              "#fb9f3a"
             ],
             [
              0.8888888888888888,
              "#fdca26"
             ],
             [
              1,
              "#f0f921"
             ]
            ],
            "type": "heatmapgl"
           }
          ],
          "histogram": [
           {
            "marker": {
             "pattern": {
              "fillmode": "overlay",
              "size": 10,
              "solidity": 0.2
             }
            },
            "type": "histogram"
           }
          ],
          "histogram2d": [
           {
            "colorbar": {
             "outlinewidth": 0,
             "ticks": ""
            },
            "colorscale": [
             [
              0,
              "#0d0887"
             ],
             [
              0.1111111111111111,
              "#46039f"
             ],
             [
              0.2222222222222222,
              "#7201a8"
             ],
             [
              0.3333333333333333,
              "#9c179e"
             ],
             [
              0.4444444444444444,
              "#bd3786"
             ],
             [
              0.5555555555555556,
              "#d8576b"
             ],
             [
              0.6666666666666666,
              "#ed7953"
             ],
             [
              0.7777777777777778,
              "#fb9f3a"
             ],
             [
              0.8888888888888888,
              "#fdca26"
             ],
             [
              1,
              "#f0f921"
             ]
            ],
            "type": "histogram2d"
           }
          ],
          "histogram2dcontour": [
           {
            "colorbar": {
             "outlinewidth": 0,
             "ticks": ""
            },
            "colorscale": [
             [
              0,
              "#0d0887"
             ],
             [
              0.1111111111111111,
              "#46039f"
             ],
             [
              0.2222222222222222,
              "#7201a8"
             ],
             [
              0.3333333333333333,
              "#9c179e"
             ],
             [
              0.4444444444444444,
              "#bd3786"
             ],
             [
              0.5555555555555556,
              "#d8576b"
             ],
             [
              0.6666666666666666,
              "#ed7953"
             ],
             [
              0.7777777777777778,
              "#fb9f3a"
             ],
             [
              0.8888888888888888,
              "#fdca26"
             ],
             [
              1,
              "#f0f921"
             ]
            ],
            "type": "histogram2dcontour"
           }
          ],
          "mesh3d": [
           {
            "colorbar": {
             "outlinewidth": 0,
             "ticks": ""
            },
            "type": "mesh3d"
           }
          ],
          "parcoords": [
           {
            "line": {
             "colorbar": {
              "outlinewidth": 0,
              "ticks": ""
             }
            },
            "type": "parcoords"
           }
          ],
          "pie": [
           {
            "automargin": true,
            "type": "pie"
           }
          ],
          "scatter": [
           {
            "fillpattern": {
             "fillmode": "overlay",
             "size": 10,
             "solidity": 0.2
            },
            "type": "scatter"
           }
          ],
          "scatter3d": [
           {
            "line": {
             "colorbar": {
              "outlinewidth": 0,
              "ticks": ""
             }
            },
            "marker": {
             "colorbar": {
              "outlinewidth": 0,
              "ticks": ""
             }
            },
            "type": "scatter3d"
           }
          ],
          "scattercarpet": [
           {
            "marker": {
             "colorbar": {
              "outlinewidth": 0,
              "ticks": ""
             }
            },
            "type": "scattercarpet"
           }
          ],
          "scattergeo": [
           {
            "marker": {
             "colorbar": {
              "outlinewidth": 0,
              "ticks": ""
             }
            },
            "type": "scattergeo"
           }
          ],
          "scattergl": [
           {
            "marker": {
             "colorbar": {
              "outlinewidth": 0,
              "ticks": ""
             }
            },
            "type": "scattergl"
           }
          ],
          "scattermapbox": [
           {
            "marker": {
             "colorbar": {
              "outlinewidth": 0,
              "ticks": ""
             }
            },
            "type": "scattermapbox"
           }
          ],
          "scatterpolar": [
           {
            "marker": {
             "colorbar": {
              "outlinewidth": 0,
              "ticks": ""
             }
            },
            "type": "scatterpolar"
           }
          ],
          "scatterpolargl": [
           {
            "marker": {
             "colorbar": {
              "outlinewidth": 0,
              "ticks": ""
             }
            },
            "type": "scatterpolargl"
           }
          ],
          "scatterternary": [
           {
            "marker": {
             "colorbar": {
              "outlinewidth": 0,
              "ticks": ""
             }
            },
            "type": "scatterternary"
           }
          ],
          "surface": [
           {
            "colorbar": {
             "outlinewidth": 0,
             "ticks": ""
            },
            "colorscale": [
             [
              0,
              "#0d0887"
             ],
             [
              0.1111111111111111,
              "#46039f"
             ],
             [
              0.2222222222222222,
              "#7201a8"
             ],
             [
              0.3333333333333333,
              "#9c179e"
             ],
             [
              0.4444444444444444,
              "#bd3786"
             ],
             [
              0.5555555555555556,
              "#d8576b"
             ],
             [
              0.6666666666666666,
              "#ed7953"
             ],
             [
              0.7777777777777778,
              "#fb9f3a"
             ],
             [
              0.8888888888888888,
              "#fdca26"
             ],
             [
              1,
              "#f0f921"
             ]
            ],
            "type": "surface"
           }
          ],
          "table": [
           {
            "cells": {
             "fill": {
              "color": "#EBF0F8"
             },
             "line": {
              "color": "white"
             }
            },
            "header": {
             "fill": {
              "color": "#C8D4E3"
             },
             "line": {
              "color": "white"
             }
            },
            "type": "table"
           }
          ]
         },
         "layout": {
          "annotationdefaults": {
           "arrowcolor": "#2a3f5f",
           "arrowhead": 0,
           "arrowwidth": 1
          },
          "autotypenumbers": "strict",
          "coloraxis": {
           "colorbar": {
            "outlinewidth": 0,
            "ticks": ""
           }
          },
          "colorscale": {
           "diverging": [
            [
             0,
             "#8e0152"
            ],
            [
             0.1,
             "#c51b7d"
            ],
            [
             0.2,
             "#de77ae"
            ],
            [
             0.3,
             "#f1b6da"
            ],
            [
             0.4,
             "#fde0ef"
            ],
            [
             0.5,
             "#f7f7f7"
            ],
            [
             0.6,
             "#e6f5d0"
            ],
            [
             0.7,
             "#b8e186"
            ],
            [
             0.8,
             "#7fbc41"
            ],
            [
             0.9,
             "#4d9221"
            ],
            [
             1,
             "#276419"
            ]
           ],
           "sequential": [
            [
             0,
             "#0d0887"
            ],
            [
             0.1111111111111111,
             "#46039f"
            ],
            [
             0.2222222222222222,
             "#7201a8"
            ],
            [
             0.3333333333333333,
             "#9c179e"
            ],
            [
             0.4444444444444444,
             "#bd3786"
            ],
            [
             0.5555555555555556,
             "#d8576b"
            ],
            [
             0.6666666666666666,
             "#ed7953"
            ],
            [
             0.7777777777777778,
             "#fb9f3a"
            ],
            [
             0.8888888888888888,
             "#fdca26"
            ],
            [
             1,
             "#f0f921"
            ]
           ],
           "sequentialminus": [
            [
             0,
             "#0d0887"
            ],
            [
             0.1111111111111111,
             "#46039f"
            ],
            [
             0.2222222222222222,
             "#7201a8"
            ],
            [
             0.3333333333333333,
             "#9c179e"
            ],
            [
             0.4444444444444444,
             "#bd3786"
            ],
            [
             0.5555555555555556,
             "#d8576b"
            ],
            [
             0.6666666666666666,
             "#ed7953"
            ],
            [
             0.7777777777777778,
             "#fb9f3a"
            ],
            [
             0.8888888888888888,
             "#fdca26"
            ],
            [
             1,
             "#f0f921"
            ]
           ]
          },
          "colorway": [
           "#636efa",
           "#EF553B",
           "#00cc96",
           "#ab63fa",
           "#FFA15A",
           "#19d3f3",
           "#FF6692",
           "#B6E880",
           "#FF97FF",
           "#FECB52"
          ],
          "font": {
           "color": "#2a3f5f"
          },
          "geo": {
           "bgcolor": "white",
           "lakecolor": "white",
           "landcolor": "#E5ECF6",
           "showlakes": true,
           "showland": true,
           "subunitcolor": "white"
          },
          "hoverlabel": {
           "align": "left"
          },
          "hovermode": "closest",
          "mapbox": {
           "style": "light"
          },
          "paper_bgcolor": "white",
          "plot_bgcolor": "#E5ECF6",
          "polar": {
           "angularaxis": {
            "gridcolor": "white",
            "linecolor": "white",
            "ticks": ""
           },
           "bgcolor": "#E5ECF6",
           "radialaxis": {
            "gridcolor": "white",
            "linecolor": "white",
            "ticks": ""
           }
          },
          "scene": {
           "xaxis": {
            "backgroundcolor": "#E5ECF6",
            "gridcolor": "white",
            "gridwidth": 2,
            "linecolor": "white",
            "showbackground": true,
            "ticks": "",
            "zerolinecolor": "white"
           },
           "yaxis": {
            "backgroundcolor": "#E5ECF6",
            "gridcolor": "white",
            "gridwidth": 2,
            "linecolor": "white",
            "showbackground": true,
            "ticks": "",
            "zerolinecolor": "white"
           },
           "zaxis": {
            "backgroundcolor": "#E5ECF6",
            "gridcolor": "white",
            "gridwidth": 2,
            "linecolor": "white",
            "showbackground": true,
            "ticks": "",
            "zerolinecolor": "white"
           }
          },
          "shapedefaults": {
           "line": {
            "color": "#2a3f5f"
           }
          },
          "ternary": {
           "aaxis": {
            "gridcolor": "white",
            "linecolor": "white",
            "ticks": ""
           },
           "baxis": {
            "gridcolor": "white",
            "linecolor": "white",
            "ticks": ""
           },
           "bgcolor": "#E5ECF6",
           "caxis": {
            "gridcolor": "white",
            "linecolor": "white",
            "ticks": ""
           }
          },
          "title": {
           "x": 0.05
          },
          "xaxis": {
           "automargin": true,
           "gridcolor": "white",
           "linecolor": "white",
           "ticks": "",
           "title": {
            "standoff": 15
           },
           "zerolinecolor": "white",
           "zerolinewidth": 2
          },
          "yaxis": {
           "automargin": true,
           "gridcolor": "white",
           "linecolor": "white",
           "ticks": "",
           "title": {
            "standoff": 15
           },
           "zerolinecolor": "white",
           "zerolinewidth": 2
          }
         }
        },
        "width": 800
       }
      }
     },
     "metadata": {},
     "output_type": "display_data"
    }
   ],
   "source": [
    "import plotly.express as px\n",
    "import matplotlib.pyplot as plt\n",
    "\n",
    "# Optional labels\n",
    "labels = [f\"{i}\" for i in range(len(data))]\n",
    "\n",
    "# Convert to DataFrame\n",
    "import pandas as pd\n",
    "df = pd.DataFrame(data, columns=[\"x\", \"y\", \"z\"])\n",
    "df[\"label\"] = labels\n",
    "\n",
    "# Create 3D scatter plot\n",
    "fig = px.scatter_3d(df, x=\"x\", y=\"y\", z=\"z\", text=\"label\", hover_name=\"label\")\n",
    "fig.update_layout(\n",
    "    width=800,\n",
    "    height=600\n",
    ")\n",
    "fig.show()"
   ]
  },
  {
   "cell_type": "markdown",
   "id": "5d4e55d2",
   "metadata": {},
   "source": [
    "### TensorBoard"
   ]
  },
  {
   "cell_type": "code",
   "execution_count": 2,
   "id": "14a533ea",
   "metadata": {},
   "outputs": [],
   "source": [
    "import tensorflow as tf\n",
    "import os\n",
    "import numpy as np\n",
    "\n",
    "weights = tf.Variable(vectors, name='embedding')  # Name is critical\n",
    "\n",
    "# Create log directory\n",
    "log_dir = \"logs/projector\"\n",
    "os.makedirs(log_dir, exist_ok=True)\n",
    "\n",
    "# Save embeddings as checkpoint\n",
    "checkpoint = tf.train.Checkpoint(embedding=weights)\n",
    "checkpoint.save(os.path.join(log_dir, \"embedding.ckpt\"))\n",
    "\n",
    "# Save metadata\n",
    "with open(os.path.join(log_dir, 'metadata.tsv'), 'w') as f:\n",
    "    for i in range(len(vectors)):\n",
    "        f.write(f\"{i}\\n\")\n",
    "\n"
   ]
  },
  {
   "cell_type": "code",
   "execution_count": 9,
   "id": "bfd36732",
   "metadata": {},
   "outputs": [],
   "source": [
    "# Set up projector config\n",
    "from tensorboard.plugins import projector\n",
    "\n",
    "# Set up config.\n",
    "config = projector.ProjectorConfig()\n",
    "embedding = config.embeddings.add()\n",
    "embedding.tensor_name = \"embedding/.ATTRIBUTES/VARIABLE_VALUE\"\n",
    "embedding.metadata_path = \"metadata.tsv\"\n",
    "\n",
    "# Save config file\n",
    "projector.visualize_embeddings(log_dir, config)"
   ]
  },
  {
   "cell_type": "code",
   "execution_count": 18,
   "id": "ed811490",
   "metadata": {},
   "outputs": [
    {
     "name": "stderr",
     "output_type": "stream",
     "text": [
      "UsageError: Line magic function `%tensorboard` not found.\n"
     ]
    }
   ],
   "source": [
    "# Now run tensorboard against on log data we just saved.\n",
    "%tensorboard --logdir /logs/projector"
   ]
  }
 ],
 "metadata": {
  "kernelspec": {
   "display_name": "base",
   "language": "python",
   "name": "python3"
  },
  "language_info": {
   "codemirror_mode": {
    "name": "ipython",
    "version": 3
   },
   "file_extension": ".py",
   "mimetype": "text/x-python",
   "name": "python",
   "nbconvert_exporter": "python",
   "pygments_lexer": "ipython3",
   "version": "3.12.7"
  }
 },
 "nbformat": 4,
 "nbformat_minor": 5
}
