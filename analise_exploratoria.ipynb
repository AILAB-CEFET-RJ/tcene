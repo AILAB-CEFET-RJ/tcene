{
 "cells": [
  {
   "cell_type": "code",
   "execution_count": null,
   "id": "60d29341",
   "metadata": {},
   "outputs": [],
   "source": [
    "import numpy as np\n",
    "\n",
    "predicted = np.load('features/predicted.npy')"
   ]
  },
  {
   "cell_type": "code",
   "execution_count": 8,
   "id": "cb79c39d",
   "metadata": {},
   "outputs": [
    {
     "data": {
      "text/plain": [
       "55"
      ]
     },
     "execution_count": 8,
     "metadata": {},
     "output_type": "execute_result"
    }
   ],
   "source": [
    "max(predicted)"
   ]
  },
  {
   "cell_type": "code",
   "execution_count": null,
   "id": "3b99cc54",
   "metadata": {},
   "outputs": [],
   "source": []
  }
 ],
 "metadata": {
  "kernelspec": {
   "display_name": "base",
   "language": "python",
   "name": "python3"
  },
  "language_info": {
   "codemirror_mode": {
    "name": "ipython",
    "version": 3
   },
   "file_extension": ".py",
   "mimetype": "text/x-python",
   "name": "python",
   "nbconvert_exporter": "python",
   "pygments_lexer": "ipython3",
   "version": "3.12.7"
  }
 },
 "nbformat": 4,
 "nbformat_minor": 5
}
