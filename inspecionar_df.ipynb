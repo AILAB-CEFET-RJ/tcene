{
 "cells": [
  {
   "cell_type": "markdown",
   "id": "a7531ca2",
   "metadata": {},
   "source": [
    "### Inicializando o Dataset"
   ]
  },
  {
   "cell_type": "code",
   "execution_count": 2,
   "id": "38b9fe24",
   "metadata": {},
   "outputs": [
    {
     "name": "stdout",
     "output_type": "stream",
     "text": [
      "<class 'pandas.core.series.Series'>\n",
      "RangeIndex: 1484918 entries, 0 to 1484917\n",
      "Series name: Elemento\n",
      "Non-Null Count    Dtype\n",
      "--------------    -----\n",
      "1484918 non-null  int64\n",
      "dtypes: int64(1)\n",
      "memory usage: 11.3 MB\n",
      "None\n",
      "\n",
      "Quantidade máxima de caracteres em df[Elemento]: 17\n"
     ]
    }
   ],
   "source": [
    "import pandas as pd\n",
    "import numpy as np\n",
    "\n",
    "# Load the DataFrame from a Parquet file\n",
    "df = pd.read_parquet('examples/tce.parquet')\n",
    "\n",
    "print(df['Elemento'].info())\n",
    "\n",
    "qtd_maxima = len(str(df['Elemento'][0]))\n",
    "\n",
    "print(f'\\nQuantidade máxima de caracteres em df[Elemento]: {qtd_maxima}') # já foi verificado e todos possuem 17 caracteres"
   ]
  },
  {
   "cell_type": "markdown",
   "id": "462c6776",
   "metadata": {},
   "source": [
    "### Query-teste"
   ]
  },
  {
   "cell_type": "code",
   "execution_count": 53,
   "id": "b8446b98",
   "metadata": {},
   "outputs": [],
   "source": [
    "df['Elemento_to_str'] = df['Elemento'].astype(str)"
   ]
  },
  {
   "cell_type": "code",
   "execution_count": 18,
   "id": "7315ee7e",
   "metadata": {},
   "outputs": [
    {
     "name": "stdout",
     "output_type": "stream",
     "text": [
      "348581     20180054646907700\n",
      "348597     20180054646907700\n",
      "348599     20180054646907700\n",
      "348600     20180054646907700\n",
      "348602     20180054646907700\n",
      "                 ...        \n",
      "1401289    20190409646907700\n",
      "1401297    20200409646907700\n",
      "1401302    20200409646907700\n",
      "1401304    20210409646907700\n",
      "1401310    20180409646907700\n",
      "Name: Elemento_to_str, Length: 162, dtype: object\n"
     ]
    }
   ],
   "source": [
    "query = '69077'\n",
    "string = df[df['Elemento_to_str'].str.contains(query, na=False)]['Elemento_to_str']\n",
    "print(string)"
   ]
  },
  {
   "cell_type": "code",
   "execution_count": 19,
   "id": "7e9e84d5",
   "metadata": {},
   "outputs": [
    {
     "name": "stdout",
     "output_type": "stream",
     "text": [
      "4\n",
      "6\n",
      "90\n",
      "77\n"
     ]
    }
   ],
   "source": [
    "print(df['Elemento_to_str'][348581][9])\n",
    "print(df['Elemento_to_str'][348581][10])\n",
    "print(df['Elemento_to_str'][348581][11:13])\n",
    "print(df['Elemento_to_str'][348581][13:15])"
   ]
  },
  {
   "cell_type": "markdown",
   "id": "e9d4982b",
   "metadata": {},
   "source": [
    "Vemos que os caracteres do código se dividem em:\n",
    "\n",
    "- `df['Elemento_to_str'][9]` -> categoria econômica\n",
    "- `df['Elemento_to_str'][10]` -> grupo de natureza da despesa\n",
    "- `df['Elemento_to_str'][11:13]` -> modalidade de aplicação\n",
    "- `df['Elemento_to_str'][13:15]` -> elemento da despesa"
   ]
  },
  {
   "cell_type": "markdown",
   "id": "47800b0e",
   "metadata": {},
   "source": [
    "### Verificação de categorias"
   ]
  },
  {
   "cell_type": "code",
   "execution_count": 2,
   "id": "895a2008",
   "metadata": {},
   "outputs": [],
   "source": [
    "c_categorias = np.array(['3', '4'])\n",
    "g_categorias = np.array(['0', '1', '2', '3', '4', '5', '6', '7', '8', '9'])                                                                                                     \n",
    "mm_categorias = np.array(['96', '95', '92', '94', '93', '91', '90', '54', '53', '55', '51', '67', '72', '32', '42', '22', '00', '99', '71', '74', '73', '30', '31', '70', '76', '75', '60', '50', '40', '41', '80', '36', '35', '46', '45', '20'])\n",
    "ee_categorias = np.array(['53', '54', '01', '62', '61', '63', '64', '38', '18', '20', '46', '19', '49', '42', '06', '90', '02', '50', '60', '86', '98', '66', '65', '04', '07', '41', '75', '73', '74', '67', '92', '81', '29', '14', '15', '27', '25', '52', '95', '93', '94', '21', '23', '37', '30', '32', '00', '51', '26', '13', '47', '34', '16', '17', '48', '08', '57', '58', '05', '24', '22', '36', '39', '84', '33', '03', '55', '56', '59', '31', '77', '76', '71', '72', '70', '28', '99', '96', '09', '10', '91', '35', '40', '45', '43', '85', '11', '12', '83', '97'])"
   ]
  },
  {
   "cell_type": "code",
   "execution_count": 21,
   "id": "250487b2",
   "metadata": {},
   "outputs": [
    {
     "name": "stdout",
     "output_type": "stream",
     "text": [
      "categorias presentes que não eram para existir: ['0']\n"
     ]
    }
   ],
   "source": [
    "# Verificação se existem números fora do padrão\n",
    "c = df['Elemento_to_str'].str[9]\n",
    "mask_c = ~c.isin(c_categorias)\n",
    "print(f'categorias presentes que não eram para existir: {np.unique(c[mask_c])}')\n",
    "\n",
    "# Categoria Econômica também pode haver o '0' como o 'Não informado'"
   ]
  },
  {
   "cell_type": "code",
   "execution_count": 22,
   "id": "1d3c5e6d",
   "metadata": {},
   "outputs": [
    {
     "name": "stdout",
     "output_type": "stream",
     "text": [
      "[]\n"
     ]
    }
   ],
   "source": [
    "# Verificação se existem números fora do padrão\n",
    "g = df['Elemento_to_str'].str[10]\n",
    "mask_g = ~g.isin(g_categorias)\n",
    "print(np.unique(g[mask_g]))"
   ]
  },
  {
   "cell_type": "code",
   "execution_count": 23,
   "id": "b845256e",
   "metadata": {},
   "outputs": [
    {
     "name": "stdout",
     "output_type": "stream",
     "text": [
      "categorias presentes que não existem: ['33' '44']\n"
     ]
    }
   ],
   "source": [
    "# Verificação se existem números fora do padrão\n",
    "mm = df['Elemento_to_str'].str[11:13]\n",
    "mask_mm = ~mm.isin(mm_categorias)\n",
    "print(f'categorias presentes que não existem: {np.unique(mm[mask_mm])}')"
   ]
  },
  {
   "cell_type": "code",
   "execution_count": 24,
   "id": "2734edf7",
   "metadata": {},
   "outputs": [
    {
     "name": "stdout",
     "output_type": "stream",
     "text": [
      "Categorias presentes que não existem: ['44']\n"
     ]
    }
   ],
   "source": [
    "# Verificação se existem números fora do padrão\n",
    "ee = df['Elemento_to_str'].str[13:15]\n",
    "mask_ee = ~ee.isin(ee_categorias)\n",
    "print(f'Categorias presentes que não existem: {np.unique(ee[mask_ee])}')"
   ]
  },
  {
   "cell_type": "markdown",
   "id": "19dcaff4",
   "metadata": {},
   "source": [
    "### Verificação de categorias 'Não Informado'\n",
    "\n",
    "Essa categoria comumente estará como '0' no seu respectivo lugar dentro do código: 'cgmmee'. Aqui, verificaremos se, mesmo após o '0' estar presente em categorias superiores, as categorias inferiores estarão preenchidas."
   ]
  },
  {
   "cell_type": "code",
   "execution_count": 25,
   "id": "402c25b5",
   "metadata": {},
   "outputs": [
    {
     "name": "stdout",
     "output_type": "stream",
     "text": [
      "Quantidade de empenhos com Categoria Econômica igual a 0 = 97\n",
      "\n",
      "Destes, 0 (empenhos) possuem dígito diferente de 0 para grupo_natureza_despesa \n",
      "Destes, 97 (empenhos) possuem dígito diferente de 0 para modalidade_de_aplicaçao\n",
      "Destes, 97 (empenhos) possuem dígito diferente de 0 para elemento_da_despesa\n",
      "\n",
      "Exemplo:\n",
      " 782596     004490\n",
      "1016791    003390\n",
      "1016798    003390\n",
      "1016799    003190\n",
      "1016800    003190\n",
      "Name: Elemento_to_str, dtype: object\n"
     ]
    }
   ],
   "source": [
    "c_zeros = df[df['Elemento_to_str'].str[9] == '0']\n",
    "print(f'Quantidade de empenhos com Categoria Econômica igual a 0 = {len(c_zeros)}\\n')\n",
    "\n",
    "\n",
    "c_zeros_irreg_g = c_zeros[c_zeros['Elemento_to_str'].str[10] != '0']\n",
    "c_zeros_irreg_mm = c_zeros[c_zeros['Elemento_to_str'].str[11:13] != '00']\n",
    "c_zeros_irreg_ee = c_zeros[c_zeros['Elemento_to_str'].str[13:15] != '00']\n",
    "\n",
    "print(f'Destes, {len(c_zeros_irreg_g)} (empenhos) possuem dígito diferente de 0 para grupo_natureza_despesa ')\n",
    "print(f'Destes, {len(c_zeros_irreg_mm)} (empenhos) possuem dígito diferente de 0 para modalidade_de_aplicaçao')\n",
    "print(f'Destes, {len(c_zeros_irreg_ee)} (empenhos) possuem dígito diferente de 0 para elemento_da_despesa\\n')\n",
    "\n",
    "print(f'Exemplo:\\n {c_zeros_irreg_mm['Elemento_to_str'].str[9:15].iloc[:5]}')\n",
    "\n"
   ]
  },
  {
   "cell_type": "code",
   "execution_count": 26,
   "id": "08199652",
   "metadata": {},
   "outputs": [
    {
     "name": "stdout",
     "output_type": "stream",
     "text": [
      "Quantidade de empenhos com Grupo de Natureza da Despesa igual a 0 = 97\n",
      "\n",
      "Destes, 0 possuem dígito diferente de 0 para Categoria_Economica\n",
      "Destes, 97 possuem dígito diferente de 0 para modalidade_de_aplicaçao\n",
      "Destes, 97 possuem dígito diferente de 0 para elemento_da_despesa\n",
      "\n",
      "Exemplo:\n",
      " 782596     004490\n",
      "1016791    003390\n",
      "1016798    003390\n",
      "1016799    003190\n",
      "1016800    003190\n",
      "Name: Elemento_to_str, dtype: object\n"
     ]
    }
   ],
   "source": [
    "g_zeros = df[df['Elemento_to_str'].str[10] == '0']\n",
    "print(f'Quantidade de empenhos com Grupo de Natureza da Despesa igual a 0 = {len(g_zeros)}\\n')\n",
    "\n",
    "g_zeros_irreg_c = g_zeros[g_zeros['Elemento_to_str'].str[9] != '0']\n",
    "g_zeros_irreg_mm = g_zeros[g_zeros['Elemento_to_str'].str[11:13] != '00']\n",
    "g_zeros_irreg_ee = g_zeros[g_zeros['Elemento_to_str'].str[13:15] != '00']\n",
    "\n",
    "print(f'Destes, {len(g_zeros_irreg_c)} possuem dígito diferente de 0 para Categoria_Economica')\n",
    "print(f'Destes, {len(g_zeros_irreg_mm)} possuem dígito diferente de 0 para modalidade_de_aplicaçao')\n",
    "print(f'Destes, {len(g_zeros_irreg_ee)} possuem dígito diferente de 0 para elemento_da_despesa\\n')\n",
    "\n",
    "print(f'Exemplo:\\n {g_zeros_irreg_mm['Elemento_to_str'].str[9:15].iloc[:5]}')\n",
    "\n"
   ]
  },
  {
   "cell_type": "code",
   "execution_count": 27,
   "id": "8ae51d3b",
   "metadata": {},
   "outputs": [
    {
     "name": "stdout",
     "output_type": "stream",
     "text": [
      "Quantidade de empenhos com Modalidade de Aplicação igual a 00 = 0\n",
      "\n",
      "Destes, 0 possuem dígito diferente de 0 para Categoria_Economica\n",
      "Destes, 0 possuem dígito diferente de 0 para grupo_natureza_despesa\n",
      "Destes, 0 possuem dígito diferente de 0 para elemento_da_despesa\n",
      "\n"
     ]
    }
   ],
   "source": [
    "mm_zeros = df[df['Elemento_to_str'].str[11:13] == '00']\n",
    "print(f'Quantidade de empenhos com Modalidade de Aplicação igual a 00 = {len(mm_zeros)}\\n')\n",
    "\n",
    "mm_zeros_irreg_c = mm_zeros[mm_zeros['Elemento_to_str'].str[9] != '0']\n",
    "mm_zeros_irreg_g = mm_zeros[mm_zeros['Elemento_to_str'].str[10] != '0']\n",
    "mm_zeros_irreg_ee = mm_zeros[mm_zeros['Elemento_to_str'].str[13:15] != '00']\n",
    "\n",
    "print(f'Destes, {len(mm_zeros_irreg_c)} possuem dígito diferente de 0 para Categoria_Economica')\n",
    "print(f'Destes, {len(mm_zeros_irreg_g)} possuem dígito diferente de 0 para grupo_natureza_despesa')\n",
    "print(f'Destes, {len(mm_zeros_irreg_ee)} possuem dígito diferente de 0 para elemento_da_despesa\\n')\n",
    "\n",
    "# print(f'Exemplo:\\n {mm_zeros_irreg_ee['Elemento_to_str'].str[9:15].iloc[:5]}')\n",
    "\n"
   ]
  },
  {
   "cell_type": "code",
   "execution_count": 28,
   "id": "9e14d1bb",
   "metadata": {},
   "outputs": [
    {
     "name": "stdout",
     "output_type": "stream",
     "text": [
      "Quantidade de empenhos com Elemento da Despesa igual a 00 = 29\n",
      "\n",
      "Destes, 29 possuem dígito diferente de 0 para Categoria_Economica\n",
      "Destes, 29 possuem dígito diferente de 0 para grupo_natureza_despesa\n",
      "Destes, 29 possuem dígito diferente de 0 para modalidade_de_aplicaçao\n",
      "\n",
      "Exemplo:\n",
      " 767437     319100\n",
      "767438     319100\n",
      "767439     319100\n",
      "767440     319100\n",
      "767441     319100\n",
      "767442     319100\n",
      "767443     319100\n",
      "767444     319100\n",
      "767445     319100\n",
      "767446     319100\n",
      "767447     319100\n",
      "767448     319100\n",
      "767449     319100\n",
      "767450     319100\n",
      "767451     319100\n",
      "767452     319100\n",
      "1078842    317100\n",
      "1078843    447100\n",
      "1078850    317100\n",
      "1078851    447100\n",
      "1078852    337100\n",
      "1160209    337100\n",
      "1262517    335000\n",
      "1262518    335000\n",
      "1262519    335000\n",
      "1262520    335000\n",
      "1262521    335000\n",
      "1396332    337100\n",
      "1396333    337100\n",
      "Name: Elemento_to_str, dtype: object\n"
     ]
    }
   ],
   "source": [
    "ee_zeros = df[df['Elemento_to_str'].str[13:15] == '00']\n",
    "print(f'Quantidade de empenhos com Elemento da Despesa igual a 00 = {len(ee_zeros)}\\n')\n",
    "\n",
    "ee_zeros_irreg_c = ee_zeros[ee_zeros['Elemento_to_str'].str[9] != '0']\n",
    "ee_zeros_irreg_g = ee_zeros[ee_zeros['Elemento_to_str'].str[10] != '0']\n",
    "ee_zeros_irreg_mm = ee_zeros[ee_zeros['Elemento_to_str'].str[11:13] != '00']\n",
    "\n",
    "print(f'Destes, {len(ee_zeros_irreg_c)} possuem dígito diferente de 0 para Categoria_Economica')\n",
    "print(f'Destes, {len(ee_zeros_irreg_g)} possuem dígito diferente de 0 para grupo_natureza_despesa')\n",
    "print(f'Destes, {len(ee_zeros_irreg_mm)} possuem dígito diferente de 0 para modalidade_de_aplicaçao\\n')\n",
    "\n",
    "print(f'Exemplo:\\n {ee_zeros['Elemento_to_str'].str[9:15]}')\n",
    "\n"
   ]
  },
  {
   "cell_type": "markdown",
   "id": "231c66ae",
   "metadata": {},
   "source": [
    "### Análisando sobre a coluna 'ElemDespesaTCE'"
   ]
  },
  {
   "cell_type": "code",
   "execution_count": 4,
   "id": "f57fb0d4",
   "metadata": {},
   "outputs": [
    {
     "name": "stdout",
     "output_type": "stream",
     "text": [
      "['CONTRIBUICOES PREVIDENCIARIAS   RPPS   PESSOAL ATIVO   PLANO PREVIDENCIARIO'\n",
      " 'TRANSFERENCIAS A CONSORCIOS PUBLICOS MEDIANTE CONTRATO DE RATEIO'\n",
      " 'TRANSFERENCIAS A INSTITUICOES PRIVADAS SEM FINS LUCRATIVOS']\n"
     ]
    }
   ],
   "source": [
    "elemdespesa_zeros = df[df['Elemento_to_str'].str[13:15] == '00']\n",
    "\n",
    "# Todos esses, estão como '00' na coluna 'Elemento', no entanto, na coluna 'ElemDespesaTCE', eles possuem nome:\n",
    "print(np.unique(elemdespesa_zeros['ElemDespesaTCE']))"
   ]
  },
  {
   "cell_type": "code",
   "execution_count": 3,
   "id": "d7c40bef",
   "metadata": {},
   "outputs": [
    {
     "name": "stdout",
     "output_type": "stream",
     "text": [
      "   Código                                          Descrição\n",
      "0      01      Aposentadorias, Reserva Remunerada e Reformas\n",
      "1      03                                            Pensões\n",
      "2      04                  Contratação por Tempo Determinado\n",
      "3      06          Benefício Mensal ao Deficiente e ao Idoso\n",
      "4      07   Contribuição a Entidades Fechadas de Previdência\n",
      "..    ...                                                ...\n",
      "79     95    Indenização pela Execução de Trabalhos de Campo\n",
      "80     96   Ressarcimento de Despesas de Pessoal Requisitado\n",
      "81     97  Aporte para Cobertura do Déficit Atuarial do RPPS\n",
      "82     98              Despesas do Orçamento de Investimento\n",
      "83     99                                      A Classificar\n",
      "\n",
      "[84 rows x 2 columns]\n"
     ]
    }
   ],
   "source": [
    "import pandas as pd\n",
    "\n",
    "data = [\n",
    "    (\"01\", \"Aposentadorias, Reserva Remunerada e Reformas\"),\n",
    "    (\"03\", \"Pensões\"),\n",
    "    (\"04\", \"Contratação por Tempo Determinado\"),\n",
    "    (\"06\", \"Benefício Mensal ao Deficiente e ao Idoso\"),\n",
    "    (\"07\", \"Contribuição a Entidades Fechadas de Previdência\"),\n",
    "    (\"08\", \"Outros Benefícios Assistenciais do Servidor e do Militar\"),\n",
    "    (\"10\", \"Seguro Desemprego e Abono Salarial\"),\n",
    "    (\"11\", \"Vencimentos e Vantagens Fixas – Pessoal Civil\"),\n",
    "    (\"12\", \"Vencimentos e Vantagens Fixas – Pessoal Militar\"),\n",
    "    (\"13\", \"Obrigações Patronais\"),\n",
    "    (\"14\", \"Diárias – Civil\"),\n",
    "    (\"15\", \"Diárias – Militar\"),\n",
    "    (\"16\", \"Outras Despesas Variáveis – Pessoal Civil\"),\n",
    "    (\"17\", \"Outras Despesas Variáveis – Pessoal Militar\"),\n",
    "    (\"18\", \"Auxílio Financeiro a Estudantes\"),\n",
    "    (\"19\", \"Auxílio-Fardamento\"),\n",
    "    (\"20\", \"Auxílio Financeiro a Pesquisadores\"),\n",
    "    (\"21\", \"Juros sobre a Dívida por Contrato\"),\n",
    "    (\"22\", \"Outros Encargos sobre a Dívida por Contrato\"),\n",
    "    (\"23\", \"Juros, Deságios e Descontos da Dívida Mobiliária\"),\n",
    "    (\"24\", \"Outros Encargos sobre a Dívida Mobiliária\"),\n",
    "    (\"25\", \"Encargos sobre Operações de Crédito por Antecipação da Receita\"),\n",
    "    (\"26\", \"Obrigações decorrentes de Política Monetária\"),\n",
    "    (\"27\", \"Encargos pela Honra de Avais, Garantias, Seguros e Similares\"),\n",
    "    (\"28\", \"Remuneração de Cotas de Fundos Autárquicos\"),\n",
    "    (\"29\", \"Distribuição de Resultado de Empresas Estatais Dependentes\"),\n",
    "    (\"30\", \"Material de Consumo\"),\n",
    "    (\"31\", \"Premiações Culturais, Artísticas, Científicas, Desportivas e Outras\"),\n",
    "    (\"32\", \"Material, Bem ou Serviço para Distribuição Gratuita\"),\n",
    "    (\"33\", \"Passagens e Despesas com Locomoção\"),\n",
    "    (\"34\", \"Outras Despesas de Pessoal decorrentes de Contratos de Terceirização\"),\n",
    "    (\"35\", \"Serviços de Consultoria\"),\n",
    "    (\"36\", \"Outros Serviços de Terceiros – Pessoa Física\"),\n",
    "    (\"37\", \"Locação de Mão-de-Obra\"),\n",
    "    (\"38\", \"Arrendamento Mercantil\"),\n",
    "    (\"39\", \"Outros Serviços de Terceiros – Pessoa Jurídica\"),\n",
    "    (\"40\", \"Serviços de Tecnologia da Informação e Comunicação - Pessoa Jurídica\"),\n",
    "    (\"41\", \"Contribuições\"),\n",
    "    (\"42\", \"Auxílios\"),\n",
    "    (\"43\", \"Subvenções Sociais\"),\n",
    "    (\"45\", \"Subvenções Econômicas\"),\n",
    "    (\"46\", \"Auxílio-Alimentação\"),\n",
    "    (\"47\", \"Obrigações Tributárias e Contributivas\"),\n",
    "    (\"48\", \"Outros Auxílios Financeiros a Pessoas Físicas\"),\n",
    "    (\"49\", \"Auxílio-Transporte\"),\n",
    "    (\"51\", \"Obras e Instalações\"),\n",
    "    (\"52\", \"Equipamentos e Material Permanente\"),\n",
    "    (\"53\", \"Aposentadorias do RGPS – Área Rural\"),\n",
    "    (\"54\", \"Aposentadorias do RGPS – Área Urbana\"),\n",
    "    (\"55\", \"Pensões do RGPS – Área Rural\"),\n",
    "    (\"56\", \"Pensões do RGPS – Área Urbana\"),\n",
    "    (\"57\", \"Outros Benefícios do RGPS – Área Rural\"),\n",
    "    (\"58\", \"Outros Benefícios do RGPS – Área Urbana\"),\n",
    "    (\"59\", \"Pensões Especiais\"),\n",
    "    (\"61\", \"Aquisição de Imóveis\"),\n",
    "    (\"62\", \"Aquisição de Produtos para Revenda\"),\n",
    "    (\"63\", \"Aquisição de Títulos de Crédito\"),\n",
    "    (\"64\", \"Aquisição de Títulos Representativos de Capital já Integralizado\"),\n",
    "    (\"65\", \"Constituição ou Aumento de Capital de Empresas\"),\n",
    "    (\"66\", \"Concessão de Empréstimos e Financiamentos\"),\n",
    "    (\"67\", \"Depósitos Compulsórios\"),\n",
    "    (\"70\", \"Rateio pela participação em Consórcio Público\"),\n",
    "    (\"71\", \"Principal da Dívida Contratual Resgatado\"),\n",
    "    (\"72\", \"Principal da Dívida Mobiliária Resgatado\"),\n",
    "    (\"73\", \"Correção Monetária ou Cambial da Dívida Contratual Resgatada\"),\n",
    "    (\"74\", \"Correção Monetária ou Cambial da Dívida Mobiliária Resgatada\"),\n",
    "    (\"75\", \"Correção Monetária da Dívida de Operações de Crédito por Antecipação de Receita\"),\n",
    "    (\"76\", \"Principal Corrigido da Dívida Mobiliária Refinanciado\"),\n",
    "    (\"77\", \"Principal Corrigido da Dívida Contratual Refinanciado\"),\n",
    "    (\"81\", \"Distribuição Constitucional ou Legal de Receitas\"),\n",
    "    (\"82\", \"Aporte de Recursos pelo Parceiro Público em Favor do Parceiro Privado Decorrente de Contrato de Parceria Público-Privada - PPP\"),\n",
    "    (\"83\", \"Despesas Decorrentes de Contrato de Parceria Público-Privada - PPP, exceto Subvenções Econômicas, Aporte e Fundo Garantidor\"),\n",
    "    (\"84\", \"Despesas Decorrentes da Participação em Fundos, Organismos, ou Entidades Assemelhadas, Nacionais e Internacionais\"),\n",
    "    (\"85\", \"Contrato de Gestão\"),\n",
    "    (\"86\", \"Compensações a Regimes de Previdência\"),\n",
    "    (\"91\", \"Sentenças Judiciais\"),\n",
    "    (\"92\", \"Despesas de Exercícios Anteriores\"),\n",
    "    (\"93\", \"Indenizações e Restituições\"),\n",
    "    (\"94\", \"Indenizações e Restituições Trabalhistas\"),\n",
    "    (\"95\", \"Indenização pela Execução de Trabalhos de Campo\"),\n",
    "    (\"96\", \"Ressarcimento de Despesas de Pessoal Requisitado\"),\n",
    "    (\"97\", \"Aporte para Cobertura do Déficit Atuarial do RPPS\"),\n",
    "    (\"98\", \"Despesas do Orçamento de Investimento\"),\n",
    "    (\"99\", \"A Classificar\")\n",
    "]\n",
    "\n",
    "data = pd.DataFrame(data, columns=[\"Código\", \"Descrição\"])\n",
    "print(data)\n"
   ]
  },
  {
   "cell_type": "code",
   "execution_count": 4,
   "id": "b051f754",
   "metadata": {},
   "outputs": [],
   "source": [
    "df['Código'] = df['Elemento_to_str'].str[13:15]\n",
    "\n",
    "df_merged = pd.merge(df, data, on=\"Código\", how=\"left\") # Mantendo todas as linhas de 'df', enquanto 'data', caso tiver linhas que não dêem match, não aparecerão\n"
   ]
  },
  {
   "cell_type": "code",
   "execution_count": 7,
   "id": "3685458e",
   "metadata": {},
   "outputs": [
    {
     "data": {
      "text/html": [
       "<div>\n",
       "<style scoped>\n",
       "    .dataframe tbody tr th:only-of-type {\n",
       "        vertical-align: middle;\n",
       "    }\n",
       "\n",
       "    .dataframe tbody tr th {\n",
       "        vertical-align: top;\n",
       "    }\n",
       "\n",
       "    .dataframe thead th {\n",
       "        text-align: right;\n",
       "    }\n",
       "</style>\n",
       "<table border=\"1\" class=\"dataframe\">\n",
       "  <thead>\n",
       "    <tr style=\"text-align: right;\">\n",
       "      <th></th>\n",
       "      <th>Descrição</th>\n",
       "      <th>ElemDespesaTCE</th>\n",
       "    </tr>\n",
       "  </thead>\n",
       "  <tbody>\n",
       "    <tr>\n",
       "      <th>0</th>\n",
       "      <td>Outros Serviços de Terceiros – Pessoa Jurídica</td>\n",
       "      <td>OUTROS SERVICOS DE TERCEIROS   PESSOA JURIDICA</td>\n",
       "    </tr>\n",
       "    <tr>\n",
       "      <th>1</th>\n",
       "      <td>Serviços de Tecnologia da Informação e Comunic...</td>\n",
       "      <td>OUTROS SERVICOS DE TERCEIROS   PESSOA JURIDICA</td>\n",
       "    </tr>\n",
       "    <tr>\n",
       "      <th>2</th>\n",
       "      <td>Outros Serviços de Terceiros – Pessoa Jurídica</td>\n",
       "      <td>OUTROS SERVICOS DE TERCEIROS   PESSOA JURIDICA</td>\n",
       "    </tr>\n",
       "    <tr>\n",
       "      <th>3</th>\n",
       "      <td>Outros Serviços de Terceiros – Pessoa Jurídica</td>\n",
       "      <td>OUTROS SERVICOS DE TERCEIROS   PESSOA JURIDICA</td>\n",
       "    </tr>\n",
       "    <tr>\n",
       "      <th>4</th>\n",
       "      <td>Outros Serviços de Terceiros – Pessoa Jurídica</td>\n",
       "      <td>OUTROS SERVICOS DE TERCEIROS   PESSOA JURIDICA</td>\n",
       "    </tr>\n",
       "  </tbody>\n",
       "</table>\n",
       "</div>"
      ],
      "text/plain": [
       "                                           Descrição  \\\n",
       "0     Outros Serviços de Terceiros – Pessoa Jurídica   \n",
       "1  Serviços de Tecnologia da Informação e Comunic...   \n",
       "2     Outros Serviços de Terceiros – Pessoa Jurídica   \n",
       "3     Outros Serviços de Terceiros – Pessoa Jurídica   \n",
       "4     Outros Serviços de Terceiros – Pessoa Jurídica   \n",
       "\n",
       "                                   ElemDespesaTCE  \n",
       "0  OUTROS SERVICOS DE TERCEIROS   PESSOA JURIDICA  \n",
       "1  OUTROS SERVICOS DE TERCEIROS   PESSOA JURIDICA  \n",
       "2  OUTROS SERVICOS DE TERCEIROS   PESSOA JURIDICA  \n",
       "3  OUTROS SERVICOS DE TERCEIROS   PESSOA JURIDICA  \n",
       "4  OUTROS SERVICOS DE TERCEIROS   PESSOA JURIDICA  "
      ]
     },
     "execution_count": 7,
     "metadata": {},
     "output_type": "execute_result"
    }
   ],
   "source": [
    "df_merged[['Descrição', 'ElemDespesaTCE']].iloc[:5]"
   ]
  },
  {
   "cell_type": "code",
   "execution_count": 5,
   "id": "d3872495",
   "metadata": {},
   "outputs": [],
   "source": [
    "import unicodedata\n",
    "import re\n",
    "\n",
    "def normalize_text(text):\n",
    "    if pd.isna(text):\n",
    "        return \"\"\n",
    "    # Remove accents\n",
    "    text = unicodedata.normalize('NFKD', text)\n",
    "    text = ''.join([c for c in text if not unicodedata.combining(c)])\n",
    "    # Lowercase\n",
    "    text = text.lower()\n",
    "    # Replace dashes with space\n",
    "    text = re.sub(r\"[-–]\", \" \", text)\n",
    "    # Replace multiple spaces with one\n",
    "    text = re.sub(r\"\\s+\", \" \", text)\n",
    "    # Trim\n",
    "    text = text.strip()\n",
    "    return text"
   ]
  },
  {
   "cell_type": "code",
   "execution_count": 6,
   "id": "257632ef",
   "metadata": {},
   "outputs": [],
   "source": [
    "df_merged[\"Descricao_normalizada\"] = df_merged[\"Descrição\"].apply(normalize_text)\n",
    "df_merged[\"ElemDespesaTCE_normalizada\"] = df_merged[\"ElemDespesaTCE\"].apply(normalize_text)"
   ]
  },
  {
   "cell_type": "code",
   "execution_count": 7,
   "id": "37009e99",
   "metadata": {},
   "outputs": [],
   "source": [
    "df_merged_reduced = df_merged[['Descricao_normalizada', 'ElemDespesaTCE_normalizada']]"
   ]
  },
  {
   "cell_type": "code",
   "execution_count": 8,
   "id": "b4a9e393",
   "metadata": {},
   "outputs": [],
   "source": [
    "elementos_despesa_conflitantes = df_merged_reduced[\n",
    "    df_merged_reduced['Descricao_normalizada'] != df_merged_reduced['ElemDespesaTCE_normalizada']\n",
    "]"
   ]
  },
  {
   "cell_type": "code",
   "execution_count": 18,
   "id": "a7ba028e",
   "metadata": {},
   "outputs": [
    {
     "name": "stdout",
     "output_type": "stream",
     "text": [
      "Quantos Empenhos possuem elementos_despesa conflitantes: 247511\n",
      "Porcentagem em relacao ao dataset completo: 16.6683%\n"
     ]
    }
   ],
   "source": [
    "print(f'Quantos Empenhos possuem elementos_despesa conflitantes: {len(elementos_despesa_conflitantes)}')\n",
    "print(f'Porcentagem em relacao ao dataset completo: {100*(len(elementos_despesa_conflitantes)/len(df)):.4f}%')"
   ]
  },
  {
   "cell_type": "code",
   "execution_count": null,
   "id": "fefc8276",
   "metadata": {},
   "outputs": [
    {
     "name": "stdout",
     "output_type": "stream",
     "text": [
      "                       Descricao_normalizada  \\\n",
      "28         despesas de exercicios anteriores   \n",
      "29         despesas de exercicios anteriores   \n",
      "30  indenizacoes e restituicoes trabalhistas   \n",
      "32         despesas de exercicios anteriores   \n",
      "36  indenizacoes e restituicoes trabalhistas   \n",
      "37         despesas de exercicios anteriores   \n",
      "46         despesas de exercicios anteriores   \n",
      "47         despesas de exercicios anteriores   \n",
      "48  indenizacoes e restituicoes trabalhistas   \n",
      "49  indenizacoes e restituicoes trabalhistas   \n",
      "\n",
      "                           ElemDespesaTCE_normalizada  \n",
      "28  desp de exercicios anteriores relativas a pess...  \n",
      "29  desp de exercicios anteriores relativas a pess...  \n",
      "30    indenizacoes e restituicoes trabalhistas ativos  \n",
      "32  desp de exercicios anteriores relativas a pess...  \n",
      "36    indenizacoes e restituicoes trabalhistas ativos  \n",
      "37  desp de exercicios anteriores relativas a pess...  \n",
      "46  desp de exercicios anteriores relativas a pess...  \n",
      "47  desp de exercicios anteriores relativas a pess...  \n",
      "48    indenizacoes e restituicoes trabalhistas ativos  \n",
      "49    indenizacoes e restituicoes trabalhistas ativos  \n"
     ]
    }
   ],
   "source": [
    "print(elementos_despesa_conflitantes.iloc[10:20])\n",
    "\n",
    "# Me parece que os elementos da despesa conflitantes, se tratam, (à princípio) de pequenas diferenças no texto.\n",
    "# Parece que eles estão fortemente relacionados, não sendo claro se realmente há uma diferença entre eles."
   ]
  },
  {
   "cell_type": "markdown",
   "id": "273edc13",
   "metadata": {},
   "source": [
    "### Base do portal da transparência"
   ]
  },
  {
   "cell_type": "code",
   "execution_count": 30,
   "id": "1285a986",
   "metadata": {},
   "outputs": [],
   "source": [
    "import pandas as pd\n",
    "\n",
    "path = '20190102_Despesas_Empenho.csv'\n",
    "\n",
    "base_2019 = pd.read_csv(path, delimiter=';', encoding='latin1')"
   ]
  },
  {
   "cell_type": "code",
   "execution_count": 54,
   "id": "7f3a6c9f",
   "metadata": {},
   "outputs": [],
   "source": [
    "df_2019 = df[df['DtEmpenho'] == '2019-01-02']"
   ]
  },
  {
   "cell_type": "code",
   "execution_count": 15,
   "id": "d46fa74d",
   "metadata": {},
   "outputs": [
    {
     "name": "stdout",
     "output_type": "stream",
     "text": [
      "16327\n",
      "1204\n"
     ]
    }
   ],
   "source": [
    "print(len(df_2019))\n",
    "print(len(base_2019))"
   ]
  },
  {
   "cell_type": "code",
   "execution_count": 33,
   "id": "9f0ca37d",
   "metadata": {},
   "outputs": [
    {
     "name": "stdout",
     "output_type": "stream",
     "text": [
      "16326\n",
      "1204\n"
     ]
    }
   ],
   "source": [
    "print(len(np.unique(df_2019['IdEmpenho'])))\n",
    "print(len(np.unique(base_2019['Id Empenho'])))"
   ]
  },
  {
   "cell_type": "code",
   "execution_count": 49,
   "id": "8ff1202c",
   "metadata": {},
   "outputs": [
    {
     "data": {
      "text/plain": [
       "Index(['Id Empenho', 'Código Empenho', 'Código Empenho Resumido',\n",
       "       'Data Emissão', 'Código Tipo Documento', 'Tipo Documento',\n",
       "       'Tipo Empenho', 'Espécie Empenho', 'Código Órgão Superior',\n",
       "       'Órgão Superior', 'Código Órgão', 'Órgão', 'Código Unidade Gestora',\n",
       "       'Unidade Gestora', 'Código Gestão', 'Gestão', 'Código Favorecido',\n",
       "       'Favorecido', 'Observação', 'Código Esfera Orçamentária',\n",
       "       'Esfera Orçamentária', 'Código Tipo Crédito', 'Tipo Crédito',\n",
       "       'Código Grupo Fonte Recurso', 'Grupo Fonte Recurso',\n",
       "       'Código Fonte Recurso', 'Fonte Recurso', 'Código Unidade Orçamentária',\n",
       "       'Unidade Orçamentária', 'Código Função', 'Função', 'Código SubFunção',\n",
       "       'SubFunção', 'Código Programa', 'Programa', 'Código Ação', 'Ação',\n",
       "       'Linguagem Cidadã', 'Código Subtítulo (Localizador)',\n",
       "       'Subtítulo (Localizador)', 'Código Plano Orçamentário',\n",
       "       'Plano Orçamentário', 'Código Programa Governo',\n",
       "       'Nome Programa Governo', 'Autor Emenda', 'Código Categoria de Despesa',\n",
       "       'Categoria de Despesa', 'Código Grupo de Despesa', 'Grupo de Despesa',\n",
       "       'Código Modalidade de Aplicação', 'Modalidade de Aplicação',\n",
       "       'Código Elemento de Despesa', 'Elemento de Despesa', 'Processo',\n",
       "       'Modalidade de Licitação', 'Inciso', 'Amparo',\n",
       "       'Referência de Dispensa ou Inexigibilidade', 'Código Convênio',\n",
       "       'Contrato de Repasse / Termo de Parceria / Outros',\n",
       "       'Valor Original do Empenho', 'Valor do Empenho Convertido pra R$',\n",
       "       'Valor Utilizado na Conversão'],\n",
       "      dtype='object')"
      ]
     },
     "execution_count": 49,
     "metadata": {},
     "output_type": "execute_result"
    }
   ],
   "source": [
    "base_2019.columns"
   ]
  },
  {
   "cell_type": "code",
   "execution_count": 50,
   "id": "15d7efb9",
   "metadata": {},
   "outputs": [
    {
     "data": {
      "text/plain": [
       "Index(['index', 'Analise', 'IdEmpenho', 'Ano', 'Vlr_AnulacaoEmpenho',\n",
       "       'CdFonteTCE', 'CdFonteUG', 'CNPJRaiz', 'CPFCNPJCredorQtNrs',\n",
       "       'CPFCNPJCredor', 'Credor', 'DtEmpenho', 'DEFonteTCE', 'DEFonteUG',\n",
       "       'DEPrograma', 'DEProjAtiv', 'DtAnomes', 'Elemento', 'ElemDespesaTCE',\n",
       "       'ElemDespesaUG', 'Ente', 'Esfera', 'Funcao', 'Historico', 'IdContrato',\n",
       "       'IdFonte', 'IdFuncao', 'Id_Orgao', 'IdPrograma', 'IdSubFuncao',\n",
       "       'IdUnid', 'IdOrgao', 'NrFonte', 'NrFonteUG', 'NrLicitacao',\n",
       "       'NrProjAtiv', 'NrEmpenho', 'ProgTrab', 'ProgTrabRed', 'ProjAtiv',\n",
       "       'SubFuncao', 'Tp_Empenho', 'Unidade', 'Vlr_Empenho',\n",
       "       'Vlr_Anul_Liquidacao', 'Vlr_Liquidacao', 'Vlr_Pagto', 'Vlr_Retencao',\n",
       "       'Vlr_SubEmpenho', 'Vlr_Empenhado', 'Vlr_Liquidado', 'Vlr_Pago',\n",
       "       'CGElem', 'CGProgTrab', 'CGigual', 'Cod_Elem', 'Cod_PT', 'CG',\n",
       "       'CGtitulo', 'CGDesc', 'CGtitTCE', 'CGfreq', 'CGlevel', 'CGpai',\n",
       "       'CGroot', 'CGchild'],\n",
       "      dtype='object')"
      ]
     },
     "execution_count": 50,
     "metadata": {},
     "output_type": "execute_result"
    }
   ],
   "source": [
    "df_2019.columns"
   ]
  },
  {
   "cell_type": "code",
   "execution_count": 56,
   "id": "61203d70",
   "metadata": {},
   "outputs": [
    {
     "data": {
      "text/plain": [
       "3      339039\n",
       "4      339039\n",
       "66     339039\n",
       "67     339039\n",
       "143    339014\n",
       "Name: Elemento_to_str, dtype: object"
      ]
     },
     "execution_count": 56,
     "metadata": {},
     "output_type": "execute_result"
    }
   ],
   "source": [
    "codigos_df_2019 = df_2019['Elemento_to_str'].str[9:15]\n",
    "codigos_df_2019.head()"
   ]
  },
  {
   "cell_type": "code",
   "execution_count": 57,
   "id": "e20d4c0d",
   "metadata": {},
   "outputs": [
    {
     "data": {
      "text/plain": [
       "array(['339039', '339014', '469071', '329021', '339036', '339033',\n",
       "       '339040', '339091', '339030', '339035', '449051', '339046',\n",
       "       '335039', '319092', '329022', '319011', '319096', '319013',\n",
       "       '339092', '339047', '332093', '319009', '319004', '319192',\n",
       "       '319113', '339048', '319016', '449052', '319001', '319003',\n",
       "       '339093', '319091', '319005', '449039', '337170', '317170',\n",
       "       '339034', '339018', '319094', '339032', '329121', '335041',\n",
       "       '339139', '339197', '469171', '339049', '319014', '339003',\n",
       "       '449165', '339008', '335043', '449092', '469077', '469091',\n",
       "       '339037', '319034', '339041', '332047', '337270', '447170',\n",
       "       '339031', '469093', '329122', '336045', '334043', '339005',\n",
       "       '339013', '449061', '336783', '333017', '449030'], dtype=object)"
      ]
     },
     "execution_count": 57,
     "metadata": {},
     "output_type": "execute_result"
    }
   ],
   "source": [
    "codigos_df_2019.unique()"
   ]
  },
  {
   "cell_type": "code",
   "execution_count": null,
   "id": "239f6fa4",
   "metadata": {},
   "outputs": [
    {
     "data": {
      "text/plain": [
       "8"
      ]
     },
     "execution_count": 86,
     "metadata": {},
     "output_type": "execute_result"
    }
   ],
   "source": [
    "query = str(339008)\n",
    "\n",
    "base_2019_filtrada = base_2019[\n",
    "    (base_2019['Código Categoria de Despesa'] == int(query[0])) &\n",
    "    (base_2019['Código Grupo de Despesa'] == int(query[1])) &\n",
    "    (base_2019['Código Modalidade de Aplicação'] == int(query[2:4])) &\n",
    "    (base_2019['Código Elemento de Despesa'] == int(query[4:6]))\n",
    "]\n",
    "\n",
    "# Existem códigos de df que não existem na base_2019 do portal transparência !\n",
    "\n",
    "len(base_2019_filtrada)\n"
   ]
  },
  {
   "cell_type": "code",
   "execution_count": 90,
   "id": "76a4b82f",
   "metadata": {},
   "outputs": [
    {
     "data": {
      "text/plain": [
       "9"
      ]
     },
     "execution_count": 90,
     "metadata": {},
     "output_type": "execute_result"
    }
   ],
   "source": [
    "df_2019_filtrado = df_2019[df_2019['Elemento_to_str'].str[9:15] == query]\n",
    "\n",
    "len(df_2019_filtrado)"
   ]
  },
  {
   "cell_type": "code",
   "execution_count": 92,
   "id": "77a8ca34",
   "metadata": {},
   "outputs": [
    {
     "data": {
      "text/plain": [
       "285779       2241.9\n",
       "302935     122500.0\n",
       "533371      10000.0\n",
       "535471      38000.0\n",
       "847261       1000.0\n",
       "1008575     56000.0\n",
       "1008579     14000.0\n",
       "1008581     68000.0\n",
       "1126894      6000.0\n",
       "Name: Vlr_Empenho, dtype: float64"
      ]
     },
     "execution_count": 92,
     "metadata": {},
     "output_type": "execute_result"
    }
   ],
   "source": [
    "df_2019_filtrado['Vlr_Empenho']"
   ]
  },
  {
   "cell_type": "code",
   "execution_count": 93,
   "id": "1ee19094",
   "metadata": {},
   "outputs": [
    {
     "data": {
      "text/plain": [
       "259     4049,91\n",
       "382       69892\n",
       "531       68448\n",
       "532      400624\n",
       "622      240000\n",
       "826      150000\n",
       "1075        100\n",
       "1162      41988\n",
       "Name: Valor Original do Empenho, dtype: object"
      ]
     },
     "execution_count": 93,
     "metadata": {},
     "output_type": "execute_result"
    }
   ],
   "source": [
    "base_2019_filtrada['Valor Original do Empenho']"
   ]
  },
  {
   "cell_type": "code",
   "execution_count": 110,
   "id": "6751f2f7",
   "metadata": {},
   "outputs": [],
   "source": [
    "base_2019['Codigo_Empenho_str'] = base_2019['Código Empenho'].astype(str)"
   ]
  },
  {
   "cell_type": "code",
   "execution_count": 119,
   "id": "6964a465",
   "metadata": {},
   "outputs": [
    {
     "data": {
      "text/html": [
       "<div>\n",
       "<style scoped>\n",
       "    .dataframe tbody tr th:only-of-type {\n",
       "        vertical-align: middle;\n",
       "    }\n",
       "\n",
       "    .dataframe tbody tr th {\n",
       "        vertical-align: top;\n",
       "    }\n",
       "\n",
       "    .dataframe thead th {\n",
       "        text-align: right;\n",
       "    }\n",
       "</style>\n",
       "<table border=\"1\" class=\"dataframe\">\n",
       "  <thead>\n",
       "    <tr style=\"text-align: right;\">\n",
       "      <th></th>\n",
       "      <th>Id Empenho</th>\n",
       "      <th>Código Empenho</th>\n",
       "      <th>Código Empenho Resumido</th>\n",
       "      <th>Data Emissão</th>\n",
       "      <th>Código Tipo Documento</th>\n",
       "      <th>Tipo Documento</th>\n",
       "      <th>Tipo Empenho</th>\n",
       "      <th>Espécie Empenho</th>\n",
       "      <th>Código Órgão Superior</th>\n",
       "      <th>Órgão Superior</th>\n",
       "      <th>...</th>\n",
       "      <th>Modalidade de Licitação</th>\n",
       "      <th>Inciso</th>\n",
       "      <th>Amparo</th>\n",
       "      <th>Referência de Dispensa ou Inexigibilidade</th>\n",
       "      <th>Código Convênio</th>\n",
       "      <th>Contrato de Repasse / Termo de Parceria / Outros</th>\n",
       "      <th>Valor Original do Empenho</th>\n",
       "      <th>Valor do Empenho Convertido pra R$</th>\n",
       "      <th>Valor Utilizado na Conversão</th>\n",
       "      <th>Codigo_Empenho_str</th>\n",
       "    </tr>\n",
       "  </thead>\n",
       "  <tbody>\n",
       "    <tr>\n",
       "      <th>2</th>\n",
       "      <td>62402352</td>\n",
       "      <td>244001242902019NE800007</td>\n",
       "      <td>2019NE800007</td>\n",
       "      <td>02/01/2019</td>\n",
       "      <td>NE</td>\n",
       "      <td>Nota de Empenho</td>\n",
       "      <td>Estimativo</td>\n",
       "      <td>ORIGINAL</td>\n",
       "      <td>35000</td>\n",
       "      <td>Ministério das Relações Exteriores</td>\n",
       "      <td>...</td>\n",
       "      <td>Dispensa de Licitação</td>\n",
       "      <td>2</td>\n",
       "      <td>LEI8666</td>\n",
       "      <td>ART24/02 LEI8666/93</td>\n",
       "      <td>-1</td>\n",
       "      <td>SEM INFORMACAO</td>\n",
       "      <td>15400</td>\n",
       "      <td>15400</td>\n",
       "      <td>1</td>\n",
       "      <td>244001242902019NE800007</td>\n",
       "    </tr>\n",
       "    <tr>\n",
       "      <th>300</th>\n",
       "      <td>70202175</td>\n",
       "      <td>170145000012019NE800007</td>\n",
       "      <td>2019NE800007</td>\n",
       "      <td>02/01/2019</td>\n",
       "      <td>NE</td>\n",
       "      <td>Nota de Empenho</td>\n",
       "      <td>Estimativo</td>\n",
       "      <td>ORIGINAL</td>\n",
       "      <td>25000</td>\n",
       "      <td>Ministério da Fazenda</td>\n",
       "      <td>...</td>\n",
       "      <td>Pregão</td>\n",
       "      <td>-8</td>\n",
       "      <td>LEI10520</td>\n",
       "      <td>ART01  LEI10520/02</td>\n",
       "      <td>-1</td>\n",
       "      <td>SEM INFORMACAO</td>\n",
       "      <td>8</td>\n",
       "      <td>8</td>\n",
       "      <td>1</td>\n",
       "      <td>170145000012019NE800007</td>\n",
       "    </tr>\n",
       "    <tr>\n",
       "      <th>462</th>\n",
       "      <td>64202138</td>\n",
       "      <td>193005112032019NE800007</td>\n",
       "      <td>2019NE800007</td>\n",
       "      <td>02/01/2019</td>\n",
       "      <td>NE</td>\n",
       "      <td>Nota de Empenho</td>\n",
       "      <td>Estimativo</td>\n",
       "      <td>CANCELAMENTO</td>\n",
       "      <td>53000</td>\n",
       "      <td>Ministério da Integração e do Desenvolvime</td>\n",
       "      <td>...</td>\n",
       "      <td>Pregão</td>\n",
       "      <td>-8</td>\n",
       "      <td>SI</td>\n",
       "      <td>SEM INFORMACAO</td>\n",
       "      <td>-1</td>\n",
       "      <td>SEM INFORMACAO</td>\n",
       "      <td>166,37</td>\n",
       "      <td>166,37</td>\n",
       "      <td>1</td>\n",
       "      <td>193005112032019NE800007</td>\n",
       "    </tr>\n",
       "    <tr>\n",
       "      <th>504</th>\n",
       "      <td>71602050</td>\n",
       "      <td>130016000012019NE800007</td>\n",
       "      <td>2019NE800007</td>\n",
       "      <td>02/01/2019</td>\n",
       "      <td>NE</td>\n",
       "      <td>Nota de Empenho</td>\n",
       "      <td>Ordinário</td>\n",
       "      <td>CANCELAMENTO</td>\n",
       "      <td>22000</td>\n",
       "      <td>Ministério da Agricultura e Pecuária</td>\n",
       "      <td>...</td>\n",
       "      <td>Pregão</td>\n",
       "      <td>-8</td>\n",
       "      <td>SI</td>\n",
       "      <td>SEM INFORMACAO</td>\n",
       "      <td>-1</td>\n",
       "      <td>SEM INFORMACAO</td>\n",
       "      <td>10</td>\n",
       "      <td>10</td>\n",
       "      <td>1</td>\n",
       "      <td>130016000012019NE800007</td>\n",
       "    </tr>\n",
       "    <tr>\n",
       "      <th>518</th>\n",
       "      <td>66602028</td>\n",
       "      <td>153019152462019NE800007</td>\n",
       "      <td>2019NE800007</td>\n",
       "      <td>02/01/2019</td>\n",
       "      <td>NE</td>\n",
       "      <td>Nota de Empenho</td>\n",
       "      <td>Estimativo</td>\n",
       "      <td>CANCELAMENTO</td>\n",
       "      <td>26000</td>\n",
       "      <td>Ministério da Educação</td>\n",
       "      <td>...</td>\n",
       "      <td>Dispensa de Licitação</td>\n",
       "      <td>2</td>\n",
       "      <td>LEI 8666</td>\n",
       "      <td>ART24/02 LEI 8666/93</td>\n",
       "      <td>-1</td>\n",
       "      <td>SEM INFORMACAO</td>\n",
       "      <td>408</td>\n",
       "      <td>408</td>\n",
       "      <td>1</td>\n",
       "      <td>153019152462019NE800007</td>\n",
       "    </tr>\n",
       "    <tr>\n",
       "      <th>552</th>\n",
       "      <td>66302840</td>\n",
       "      <td>152005000012019NE800007</td>\n",
       "      <td>2019NE800007</td>\n",
       "      <td>02/01/2019</td>\n",
       "      <td>NE</td>\n",
       "      <td>Nota de Empenho</td>\n",
       "      <td>Global</td>\n",
       "      <td>ORIGINAL</td>\n",
       "      <td>26000</td>\n",
       "      <td>Ministério da Educação</td>\n",
       "      <td>...</td>\n",
       "      <td>Pregão</td>\n",
       "      <td>-8</td>\n",
       "      <td>LEI10520</td>\n",
       "      <td>ART01  LEI10520/02</td>\n",
       "      <td>-1</td>\n",
       "      <td>SEM INFORMACAO</td>\n",
       "      <td>7650</td>\n",
       "      <td>7650</td>\n",
       "      <td>1</td>\n",
       "      <td>152005000012019NE800007</td>\n",
       "    </tr>\n",
       "    <tr>\n",
       "      <th>661</th>\n",
       "      <td>63502095</td>\n",
       "      <td>170120000012019NE800007</td>\n",
       "      <td>2019NE800007</td>\n",
       "      <td>02/01/2019</td>\n",
       "      <td>NE</td>\n",
       "      <td>Nota de Empenho</td>\n",
       "      <td>Estimativo</td>\n",
       "      <td>CANCELAMENTO</td>\n",
       "      <td>25000</td>\n",
       "      <td>Ministério da Fazenda</td>\n",
       "      <td>...</td>\n",
       "      <td>Dispensa de Licitação</td>\n",
       "      <td>5</td>\n",
       "      <td>LEI 8666</td>\n",
       "      <td>ART24/05 LEI 8666/93</td>\n",
       "      <td>-1</td>\n",
       "      <td>SEM INFORMACAO</td>\n",
       "      <td>10,58</td>\n",
       "      <td>10,58</td>\n",
       "      <td>1</td>\n",
       "      <td>170120000012019NE800007</td>\n",
       "    </tr>\n",
       "    <tr>\n",
       "      <th>698</th>\n",
       "      <td>68802193</td>\n",
       "      <td>170531000012019NE800007</td>\n",
       "      <td>2019NE800007</td>\n",
       "      <td>02/01/2019</td>\n",
       "      <td>NE</td>\n",
       "      <td>Nota de Empenho</td>\n",
       "      <td>Estimativo</td>\n",
       "      <td>ORIGINAL</td>\n",
       "      <td>46000</td>\n",
       "      <td>Ministério da Gestão e da Inovação em Ser</td>\n",
       "      <td>...</td>\n",
       "      <td>Pregão</td>\n",
       "      <td>-8</td>\n",
       "      <td>LEI10520</td>\n",
       "      <td>ART01  LEI10520/02</td>\n",
       "      <td>-1</td>\n",
       "      <td>SEM INFORMACAO</td>\n",
       "      <td>250,15</td>\n",
       "      <td>250,15</td>\n",
       "      <td>1</td>\n",
       "      <td>170531000012019NE800007</td>\n",
       "    </tr>\n",
       "    <tr>\n",
       "      <th>932</th>\n",
       "      <td>63203166</td>\n",
       "      <td>158394264232019NE800007</td>\n",
       "      <td>2019NE800007</td>\n",
       "      <td>02/01/2019</td>\n",
       "      <td>NE</td>\n",
       "      <td>Nota de Empenho</td>\n",
       "      <td>Global</td>\n",
       "      <td>ORIGINAL</td>\n",
       "      <td>26000</td>\n",
       "      <td>Ministério da Educação</td>\n",
       "      <td>...</td>\n",
       "      <td>Pregão</td>\n",
       "      <td>-8</td>\n",
       "      <td>LEI10520</td>\n",
       "      <td>ART01  LEI10520/02</td>\n",
       "      <td>-1</td>\n",
       "      <td>SEM INFORMACAO</td>\n",
       "      <td>2032,2</td>\n",
       "      <td>2032,2</td>\n",
       "      <td>1</td>\n",
       "      <td>158394264232019NE800007</td>\n",
       "    </tr>\n",
       "    <tr>\n",
       "      <th>965</th>\n",
       "      <td>69202067</td>\n",
       "      <td>155124264432019NE800007</td>\n",
       "      <td>2019NE800007</td>\n",
       "      <td>02/01/2019</td>\n",
       "      <td>NE</td>\n",
       "      <td>Nota de Empenho</td>\n",
       "      <td>Global</td>\n",
       "      <td>CANCELAMENTO</td>\n",
       "      <td>26000</td>\n",
       "      <td>Ministério da Educação</td>\n",
       "      <td>...</td>\n",
       "      <td>Pregão</td>\n",
       "      <td>-8</td>\n",
       "      <td>SI</td>\n",
       "      <td>SEM INFORMACAO</td>\n",
       "      <td>-1</td>\n",
       "      <td>SEM INFORMACAO</td>\n",
       "      <td>550</td>\n",
       "      <td>550</td>\n",
       "      <td>1</td>\n",
       "      <td>155124264432019NE800007</td>\n",
       "    </tr>\n",
       "    <tr>\n",
       "      <th>1000</th>\n",
       "      <td>68302108</td>\n",
       "      <td>160482000012019NE800007</td>\n",
       "      <td>2019NE800007</td>\n",
       "      <td>02/01/2019</td>\n",
       "      <td>NE</td>\n",
       "      <td>Nota de Empenho</td>\n",
       "      <td>Ordinário</td>\n",
       "      <td>CANCELAMENTO</td>\n",
       "      <td>52000</td>\n",
       "      <td>Ministério da Defesa</td>\n",
       "      <td>...</td>\n",
       "      <td>Pregão</td>\n",
       "      <td>-8</td>\n",
       "      <td>SI</td>\n",
       "      <td>SEM INFORMACAO</td>\n",
       "      <td>-1</td>\n",
       "      <td>SEM INFORMACAO</td>\n",
       "      <td>515,99</td>\n",
       "      <td>515,99</td>\n",
       "      <td>1</td>\n",
       "      <td>160482000012019NE800007</td>\n",
       "    </tr>\n",
       "    <tr>\n",
       "      <th>1009</th>\n",
       "      <td>63602127</td>\n",
       "      <td>170009000012019NE800007</td>\n",
       "      <td>2019NE800007</td>\n",
       "      <td>02/01/2019</td>\n",
       "      <td>NE</td>\n",
       "      <td>Nota de Empenho</td>\n",
       "      <td>Estimativo</td>\n",
       "      <td>CANCELAMENTO</td>\n",
       "      <td>25000</td>\n",
       "      <td>Ministério da Fazenda</td>\n",
       "      <td>...</td>\n",
       "      <td>Inexigível</td>\n",
       "      <td>2</td>\n",
       "      <td>LEI 8666</td>\n",
       "      <td>ART25/02 LEI 8666/93</td>\n",
       "      <td>-1</td>\n",
       "      <td>SEM INFORMACAO</td>\n",
       "      <td>10993</td>\n",
       "      <td>10993</td>\n",
       "      <td>1</td>\n",
       "      <td>170009000012019NE800007</td>\n",
       "    </tr>\n",
       "    <tr>\n",
       "      <th>1039</th>\n",
       "      <td>69002496</td>\n",
       "      <td>170330000012019NE800007</td>\n",
       "      <td>2019NE800007</td>\n",
       "      <td>02/01/2019</td>\n",
       "      <td>NE</td>\n",
       "      <td>Nota de Empenho</td>\n",
       "      <td>Estimativo</td>\n",
       "      <td>ORIGINAL</td>\n",
       "      <td>25000</td>\n",
       "      <td>Ministério da Fazenda</td>\n",
       "      <td>...</td>\n",
       "      <td>Pregão</td>\n",
       "      <td>-8</td>\n",
       "      <td>LEI10520</td>\n",
       "      <td>ART01  LEI10520/02</td>\n",
       "      <td>-1</td>\n",
       "      <td>SEM INFORMACAO</td>\n",
       "      <td>7</td>\n",
       "      <td>7</td>\n",
       "      <td>1</td>\n",
       "      <td>170330000012019NE800007</td>\n",
       "    </tr>\n",
       "    <tr>\n",
       "      <th>1065</th>\n",
       "      <td>66504020</td>\n",
       "      <td>152426264232019NE800007</td>\n",
       "      <td>2019NE800007</td>\n",
       "      <td>02/01/2019</td>\n",
       "      <td>NE</td>\n",
       "      <td>Nota de Empenho</td>\n",
       "      <td>Estimativo</td>\n",
       "      <td>ORIGINAL</td>\n",
       "      <td>26000</td>\n",
       "      <td>Ministério da Educação</td>\n",
       "      <td>...</td>\n",
       "      <td>Inexigível</td>\n",
       "      <td>CP</td>\n",
       "      <td>LEI8666</td>\n",
       "      <td>ART25/CP LEI8666/93</td>\n",
       "      <td>-1</td>\n",
       "      <td>SEM INFORMACAO</td>\n",
       "      <td>1000</td>\n",
       "      <td>1000</td>\n",
       "      <td>1</td>\n",
       "      <td>152426264232019NE800007</td>\n",
       "    </tr>\n",
       "    <tr>\n",
       "      <th>1073</th>\n",
       "      <td>68802014</td>\n",
       "      <td>110001000012019NE800007</td>\n",
       "      <td>2019NE800007</td>\n",
       "      <td>02/01/2019</td>\n",
       "      <td>NE</td>\n",
       "      <td>Nota de Empenho</td>\n",
       "      <td>Estimativo</td>\n",
       "      <td>ORIGINAL</td>\n",
       "      <td>20000</td>\n",
       "      <td>Presidência da República</td>\n",
       "      <td>...</td>\n",
       "      <td>Suprimento de Fundo</td>\n",
       "      <td>2</td>\n",
       "      <td>DEC93872</td>\n",
       "      <td>ART45/02 DEC93872/86</td>\n",
       "      <td>-1</td>\n",
       "      <td>SEM INFORMACAO</td>\n",
       "      <td>15000</td>\n",
       "      <td>15000</td>\n",
       "      <td>1</td>\n",
       "      <td>110001000012019NE800007</td>\n",
       "    </tr>\n",
       "  </tbody>\n",
       "</table>\n",
       "<p>15 rows × 64 columns</p>\n",
       "</div>"
      ],
      "text/plain": [
       "      Id Empenho           Código Empenho Código Empenho Resumido  \\\n",
       "2       62402352  244001242902019NE800007            2019NE800007   \n",
       "300     70202175  170145000012019NE800007            2019NE800007   \n",
       "462     64202138  193005112032019NE800007            2019NE800007   \n",
       "504     71602050  130016000012019NE800007            2019NE800007   \n",
       "518     66602028  153019152462019NE800007            2019NE800007   \n",
       "552     66302840  152005000012019NE800007            2019NE800007   \n",
       "661     63502095  170120000012019NE800007            2019NE800007   \n",
       "698     68802193  170531000012019NE800007            2019NE800007   \n",
       "932     63203166  158394264232019NE800007            2019NE800007   \n",
       "965     69202067  155124264432019NE800007            2019NE800007   \n",
       "1000    68302108  160482000012019NE800007            2019NE800007   \n",
       "1009    63602127  170009000012019NE800007            2019NE800007   \n",
       "1039    69002496  170330000012019NE800007            2019NE800007   \n",
       "1065    66504020  152426264232019NE800007            2019NE800007   \n",
       "1073    68802014  110001000012019NE800007            2019NE800007   \n",
       "\n",
       "     Data Emissão Código Tipo Documento   Tipo Documento Tipo Empenho  \\\n",
       "2      02/01/2019                    NE  Nota de Empenho   Estimativo   \n",
       "300    02/01/2019                    NE  Nota de Empenho   Estimativo   \n",
       "462    02/01/2019                    NE  Nota de Empenho   Estimativo   \n",
       "504    02/01/2019                    NE  Nota de Empenho    Ordinário   \n",
       "518    02/01/2019                    NE  Nota de Empenho   Estimativo   \n",
       "552    02/01/2019                    NE  Nota de Empenho       Global   \n",
       "661    02/01/2019                    NE  Nota de Empenho   Estimativo   \n",
       "698    02/01/2019                    NE  Nota de Empenho   Estimativo   \n",
       "932    02/01/2019                    NE  Nota de Empenho       Global   \n",
       "965    02/01/2019                    NE  Nota de Empenho       Global   \n",
       "1000   02/01/2019                    NE  Nota de Empenho    Ordinário   \n",
       "1009   02/01/2019                    NE  Nota de Empenho   Estimativo   \n",
       "1039   02/01/2019                    NE  Nota de Empenho   Estimativo   \n",
       "1065   02/01/2019                    NE  Nota de Empenho   Estimativo   \n",
       "1073   02/01/2019                    NE  Nota de Empenho   Estimativo   \n",
       "\n",
       "     Espécie Empenho  Código Órgão Superior  \\\n",
       "2           ORIGINAL                  35000   \n",
       "300         ORIGINAL                  25000   \n",
       "462     CANCELAMENTO                  53000   \n",
       "504     CANCELAMENTO                  22000   \n",
       "518     CANCELAMENTO                  26000   \n",
       "552         ORIGINAL                  26000   \n",
       "661     CANCELAMENTO                  25000   \n",
       "698         ORIGINAL                  46000   \n",
       "932         ORIGINAL                  26000   \n",
       "965     CANCELAMENTO                  26000   \n",
       "1000    CANCELAMENTO                  52000   \n",
       "1009    CANCELAMENTO                  25000   \n",
       "1039        ORIGINAL                  25000   \n",
       "1065        ORIGINAL                  26000   \n",
       "1073        ORIGINAL                  20000   \n",
       "\n",
       "                                  Órgão Superior  ...  \\\n",
       "2             Ministério das Relações Exteriores  ...   \n",
       "300                        Ministério da Fazenda  ...   \n",
       "462   Ministério da Integração e do Desenvolvime  ...   \n",
       "504         Ministério da Agricultura e Pecuária  ...   \n",
       "518                       Ministério da Educação  ...   \n",
       "552                       Ministério da Educação  ...   \n",
       "661                        Ministério da Fazenda  ...   \n",
       "698    Ministério da Gestão e da Inovação em Ser  ...   \n",
       "932                       Ministério da Educação  ...   \n",
       "965                       Ministério da Educação  ...   \n",
       "1000                        Ministério da Defesa  ...   \n",
       "1009                       Ministério da Fazenda  ...   \n",
       "1039                       Ministério da Fazenda  ...   \n",
       "1065                      Ministério da Educação  ...   \n",
       "1073                    Presidência da República  ...   \n",
       "\n",
       "      Modalidade de Licitação Inciso    Amparo  \\\n",
       "2       Dispensa de Licitação      2   LEI8666   \n",
       "300                    Pregão     -8  LEI10520   \n",
       "462                    Pregão     -8        SI   \n",
       "504                    Pregão     -8        SI   \n",
       "518     Dispensa de Licitação      2  LEI 8666   \n",
       "552                    Pregão     -8  LEI10520   \n",
       "661     Dispensa de Licitação      5  LEI 8666   \n",
       "698                    Pregão     -8  LEI10520   \n",
       "932                    Pregão     -8  LEI10520   \n",
       "965                    Pregão     -8        SI   \n",
       "1000                   Pregão     -8        SI   \n",
       "1009               Inexigível      2  LEI 8666   \n",
       "1039                   Pregão     -8  LEI10520   \n",
       "1065               Inexigível     CP   LEI8666   \n",
       "1073      Suprimento de Fundo      2  DEC93872   \n",
       "\n",
       "     Referência de Dispensa ou Inexigibilidade  Código Convênio  \\\n",
       "2                          ART24/02 LEI8666/93               -1   \n",
       "300                         ART01  LEI10520/02               -1   \n",
       "462                             SEM INFORMACAO               -1   \n",
       "504                             SEM INFORMACAO               -1   \n",
       "518                       ART24/02 LEI 8666/93               -1   \n",
       "552                         ART01  LEI10520/02               -1   \n",
       "661                       ART24/05 LEI 8666/93               -1   \n",
       "698                         ART01  LEI10520/02               -1   \n",
       "932                         ART01  LEI10520/02               -1   \n",
       "965                             SEM INFORMACAO               -1   \n",
       "1000                            SEM INFORMACAO               -1   \n",
       "1009                      ART25/02 LEI 8666/93               -1   \n",
       "1039                        ART01  LEI10520/02               -1   \n",
       "1065                       ART25/CP LEI8666/93               -1   \n",
       "1073                      ART45/02 DEC93872/86               -1   \n",
       "\n",
       "     Contrato de Repasse / Termo de Parceria / Outros  \\\n",
       "2                                      SEM INFORMACAO   \n",
       "300                                    SEM INFORMACAO   \n",
       "462                                    SEM INFORMACAO   \n",
       "504                                    SEM INFORMACAO   \n",
       "518                                    SEM INFORMACAO   \n",
       "552                                    SEM INFORMACAO   \n",
       "661                                    SEM INFORMACAO   \n",
       "698                                    SEM INFORMACAO   \n",
       "932                                    SEM INFORMACAO   \n",
       "965                                    SEM INFORMACAO   \n",
       "1000                                   SEM INFORMACAO   \n",
       "1009                                   SEM INFORMACAO   \n",
       "1039                                   SEM INFORMACAO   \n",
       "1065                                   SEM INFORMACAO   \n",
       "1073                                   SEM INFORMACAO   \n",
       "\n",
       "     Valor Original do Empenho Valor do Empenho Convertido pra R$  \\\n",
       "2                        15400                              15400   \n",
       "300                          8                                  8   \n",
       "462                     166,37                             166,37   \n",
       "504                         10                                 10   \n",
       "518                        408                                408   \n",
       "552                       7650                               7650   \n",
       "661                      10,58                              10,58   \n",
       "698                     250,15                             250,15   \n",
       "932                     2032,2                             2032,2   \n",
       "965                        550                                550   \n",
       "1000                    515,99                             515,99   \n",
       "1009                     10993                              10993   \n",
       "1039                         7                                  7   \n",
       "1065                      1000                               1000   \n",
       "1073                     15000                              15000   \n",
       "\n",
       "     Valor Utilizado na Conversão       Codigo_Empenho_str  \n",
       "2                               1  244001242902019NE800007  \n",
       "300                             1  170145000012019NE800007  \n",
       "462                             1  193005112032019NE800007  \n",
       "504                             1  130016000012019NE800007  \n",
       "518                             1  153019152462019NE800007  \n",
       "552                             1  152005000012019NE800007  \n",
       "661                             1  170120000012019NE800007  \n",
       "698                             1  170531000012019NE800007  \n",
       "932                             1  158394264232019NE800007  \n",
       "965                             1  155124264432019NE800007  \n",
       "1000                            1  160482000012019NE800007  \n",
       "1009                            1  170009000012019NE800007  \n",
       "1039                            1  170330000012019NE800007  \n",
       "1065                            1  152426264232019NE800007  \n",
       "1073                            1  110001000012019NE800007  \n",
       "\n",
       "[15 rows x 64 columns]"
      ]
     },
     "execution_count": 119,
     "metadata": {},
     "output_type": "execute_result"
    }
   ],
   "source": [
    "query = base_2019[base_2019['Codigo_Empenho_str'].str[17:24].str.contains('800007', na=False)]\n",
    "query"
   ]
  },
  {
   "cell_type": "code",
   "execution_count": null,
   "id": "17e6499e",
   "metadata": {},
   "outputs": [
    {
     "data": {
      "text/html": [
       "<div>\n",
       "<style scoped>\n",
       "    .dataframe tbody tr th:only-of-type {\n",
       "        vertical-align: middle;\n",
       "    }\n",
       "\n",
       "    .dataframe tbody tr th {\n",
       "        vertical-align: top;\n",
       "    }\n",
       "\n",
       "    .dataframe thead th {\n",
       "        text-align: right;\n",
       "    }\n",
       "</style>\n",
       "<table border=\"1\" class=\"dataframe\">\n",
       "  <thead>\n",
       "    <tr style=\"text-align: right;\">\n",
       "      <th></th>\n",
       "      <th>CdFonteUG</th>\n",
       "      <th>IdEmpenho</th>\n",
       "      <th>Cod_PT</th>\n",
       "      <th>IdOrgao</th>\n",
       "      <th>IdFonte</th>\n",
       "      <th>NrFonte</th>\n",
       "      <th>IdUnid</th>\n",
       "      <th>index</th>\n",
       "    </tr>\n",
       "  </thead>\n",
       "  <tbody>\n",
       "    <tr>\n",
       "      <th>583856</th>\n",
       "      <td>6</td>\n",
       "      <td>201900020068000070000000225</td>\n",
       "      <td>31909200</td>\n",
       "      <td>20190002006800008</td>\n",
       "      <td>2019006800006</td>\n",
       "      <td>10010000</td>\n",
       "      <td>680</td>\n",
       "      <td>810873</td>\n",
       "    </tr>\n",
       "  </tbody>\n",
       "</table>\n",
       "</div>"
      ],
      "text/plain": [
       "        CdFonteUG                    IdEmpenho    Cod_PT            IdOrgao  \\\n",
       "583856          6  201900020068000070000000225  31909200  20190002006800008   \n",
       "\n",
       "              IdFonte   NrFonte  IdUnid   index  \n",
       "583856  2019006800006  10010000     680  810873  "
      ]
     },
     "execution_count": 125,
     "metadata": {},
     "output_type": "execute_result"
    }
   ],
   "source": [
    "result = df_2019[df_2019['IdEmpenho'].str.contains('800007', na=False)]\n",
    "# elem_despesa_result = result['Elemento_to_str'].str[9:15]\n",
    "result[['IdEmpenho', 'Cod_PT', 'IdOrgao', 'IdFonte', 'NrFonte', 'IdUnid', 'index']]"
   ]
  },
  {
   "cell_type": "code",
   "execution_count": 124,
   "id": "3591d30f",
   "metadata": {},
   "outputs": [
    {
     "data": {
      "text/plain": [
       "Index(['index', 'Analise', 'IdEmpenho', 'Ano', 'Vlr_AnulacaoEmpenho',\n",
       "       'CdFonteTCE', 'CdFonteUG', 'CNPJRaiz', 'CPFCNPJCredorQtNrs',\n",
       "       'CPFCNPJCredor', 'Credor', 'DtEmpenho', 'DEFonteTCE', 'DEFonteUG',\n",
       "       'DEPrograma', 'DEProjAtiv', 'DtAnomes', 'Elemento', 'ElemDespesaTCE',\n",
       "       'ElemDespesaUG', 'Ente', 'Esfera', 'Funcao', 'Historico', 'IdContrato',\n",
       "       'IdFonte', 'IdFuncao', 'Id_Orgao', 'IdPrograma', 'IdSubFuncao',\n",
       "       'IdUnid', 'IdOrgao', 'NrFonte', 'NrFonteUG', 'NrLicitacao',\n",
       "       'NrProjAtiv', 'NrEmpenho', 'ProgTrab', 'ProgTrabRed', 'ProjAtiv',\n",
       "       'SubFuncao', 'Tp_Empenho', 'Unidade', 'Vlr_Empenho',\n",
       "       'Vlr_Anul_Liquidacao', 'Vlr_Liquidacao', 'Vlr_Pagto', 'Vlr_Retencao',\n",
       "       'Vlr_SubEmpenho', 'Vlr_Empenhado', 'Vlr_Liquidado', 'Vlr_Pago',\n",
       "       'CGElem', 'CGProgTrab', 'CGigual', 'Cod_Elem', 'Cod_PT', 'CG',\n",
       "       'CGtitulo', 'CGDesc', 'CGtitTCE', 'CGfreq', 'CGlevel', 'CGpai',\n",
       "       'CGroot', 'CGchild', 'Elemento_to_str', 'Nr_Empenho_to_str'],\n",
       "      dtype='object')"
      ]
     },
     "execution_count": 124,
     "metadata": {},
     "output_type": "execute_result"
    }
   ],
   "source": [
    "df.columns"
   ]
  },
  {
   "cell_type": "code",
   "execution_count": null,
   "id": "49106f2b",
   "metadata": {},
   "outputs": [],
   "source": []
  }
 ],
 "metadata": {
  "kernelspec": {
   "display_name": "base",
   "language": "python",
   "name": "python3"
  },
  "language_info": {
   "codemirror_mode": {
    "name": "ipython",
    "version": 3
   },
   "file_extension": ".py",
   "mimetype": "text/x-python",
   "name": "python",
   "nbconvert_exporter": "python",
   "pygments_lexer": "ipython3",
   "version": "3.12.7"
  }
 },
 "nbformat": 4,
 "nbformat_minor": 5
}
