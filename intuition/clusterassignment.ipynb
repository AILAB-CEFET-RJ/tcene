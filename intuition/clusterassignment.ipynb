{
 "cells": [
  {
   "cell_type": "markdown",
   "id": "b26baa14",
   "metadata": {},
   "source": [
    "### Step 1: Define a mini batch of 2D embeddings (4 samples)\n",
    "\n",
    "### Step 2: Define 2 cluster centers (2D)"
   ]
  },
  {
   "cell_type": "code",
   "execution_count": null,
   "id": "c9463254",
   "metadata": {},
   "outputs": [],
   "source": [
    "# DEC-style Soft Assignment: Minimal Example\n",
    "\n",
    "import numpy as np\n",
    "import pandas as pd\n",
    "\n",
    "\n",
    "batch = np.array([\n",
    "    [1.0, 2.0],\n",
    "    [2.0, 1.0],\n",
    "    [8.0, 8.0],\n",
    "    [9.0, 9.0]\n",
    "])  # Shape: (4, 2) --> [num_samples, hidden_layer]\n",
    "\n",
    "\n",
    "cluster_centers = np.array([\n",
    "    [1.0, 1.0],\n",
    "    [9.0, 8.0]\n",
    "])  # Shape: (2, 2) --> [num_clusters, hidden_layer]\n",
    "\n"
   ]
  },
  {
   "cell_type": "code",
   "execution_count": 4,
   "id": "3718f12f",
   "metadata": {},
   "outputs": [
    {
     "data": {
      "image/png": "[encoded data removed]",
      "text/plain": [
       "<Figure size 640x480 with 1 Axes>"
      ]
     },
     "metadata": {},
     "output_type": "display_data"
    }
   ],
   "source": [
    "import matplotlib.pyplot as plt\n",
    "import seaborn as sns\n",
    "\n",
    "sns.scatterplot(x=batch[:, 0], y=batch[:, 1], label='Samples')\n",
    "sns.scatterplot(x=cluster_centers[:, 0], y=cluster_centers[:, 1], label='Cluster Centers', marker='X', s=100)\n",
    "plt.xlabel('X')\n",
    "plt.ylabel('Y')\n",
    "plt.title('Samples and Cluster Centers')\n",
    "plt.show()"
   ]
  },
  {
   "cell_type": "markdown",
   "id": "49e59b8b",
   "metadata": {},
   "source": [
    "### Step 3: Compute squared Euclidean distance between each point and each cluster"
   ]
  },
  {
   "cell_type": "code",
   "execution_count": null,
   "id": "9a7e89f6",
   "metadata": {},
   "outputs": [
    {
     "name": "stdout",
     "output_type": "stream",
     "text": [
      "First data point - 2nd cluster:\n",
      "[[1. 2.]] - [9. 8.] = [[-8. -6.]]\n",
      "\n",
      "power of 2: [[64. 36.]]\n",
      "\n",
      "Sum[1]: 100.0\n",
      "\n",
      "Squared distances (all SUM's):\n",
      " [[  1. 100.]\n",
      " [  1.  98.]\n",
      " [ 98.   1.]\n",
      " [128.   1.]]\n"
     ]
    }
   ],
   "source": [
    "# Shape explanation:\n",
    "#   batch.unsqueeze(1): (4, 1, 2)\n",
    "#   cluster_centers: (2, 2) → broadcasted to (1, 2, 2)\n",
    "#   Result: (4, 2, 2) → Sum over dim=2 → (4, 2)\n",
    "\n",
    "\n",
    "print(f\"First data point - 2nd cluster:\\n{batch[:, np.newaxis, :][0]} - {cluster_centers[1]} = {batch[:, np.newaxis, :][0] - cluster_centers[1]}\")\n",
    "print(f\"\\npower of 2: {(batch[:, np.newaxis, :][0] - cluster_centers[1])**2}\\n\")\n",
    "norm_squared = np.sum((batch[:, np.newaxis, :] - cluster_centers) ** 2, axis=2)\n",
    "print(f\"Sum[1]: {norm_squared[0][1]}\\n\")\n",
    "\n",
    "# ----------------------------------------------\n",
    "print(\"Squared distances (all SUM's):\\n\", norm_squared)"
   ]
  },
  {
   "cell_type": "markdown",
   "id": "94c7013f",
   "metadata": {},
   "source": [
    "### Step 4: Apply the Student's t-distribution kernel"
   ]
  },
  {
   "cell_type": "code",
   "execution_count": 37,
   "id": "8344e92a",
   "metadata": {},
   "outputs": [
    {
     "name": "stdout",
     "output_type": "stream",
     "text": [
      "Numerator (alpha=1): \n",
      "[[0.5        0.00990099]\n",
      " [0.5        0.01010101]\n",
      " [0.01010101 0.5       ]\n",
      " [0.00775194 0.5       ]]\n"
     ]
    }
   ],
   "source": [
    "alpha = 1.0  # Distribution parameter (sharper vs flatter assignments)\n",
    "\n",
    "numerator = 1.0 / (1.0 + norm_squared / alpha)\n",
    "print(f\"Numerator (alpha=1): \\n{numerator}\")\n"
   ]
  },
  {
   "cell_type": "code",
   "execution_count": null,
   "id": "5ab6e97b",
   "metadata": {},
   "outputs": [
    {
     "name": "stdout",
     "output_type": "stream",
     "text": [
      "Numerator (alpha=1): \n",
      "[[0.5        0.00990099]\n",
      " [0.5        0.01010101]\n",
      " [0.01010101 0.5       ]\n",
      " [0.00775194 0.5       ]]\n"
     ]
    }
   ],
   "source": [
    "power = (alpha + 1.0) / 2\n",
    "numerator = numerator ** power # alpha == 1, nothing changes\n",
    "\n",
    "print(f\"Numerator (alpha=1): \\n{numerator}\")"
   ]
  },
  {
   "cell_type": "markdown",
   "id": "6e0110d4",
   "metadata": {},
   "source": [
    "### Step 5: Normalize across clusters (dim=1)"
   ]
  },
  {
   "cell_type": "code",
   "execution_count": 43,
   "id": "1e0118b0",
   "metadata": {},
   "outputs": [
    {
     "name": "stdout",
     "output_type": "stream",
     "text": [
      "Sum per line: \n",
      "[[0.50990099]\n",
      " [0.51010101]\n",
      " [0.51010101]\n",
      " [0.50775194]]\n",
      "\n",
      "Soft assignments (probabilities):\n",
      " [[0.98058252 0.01941748]\n",
      " [0.98019802 0.01980198]\n",
      " [0.01980198 0.98019802]\n",
      " [0.01526718 0.98473282]]\n"
     ]
    }
   ],
   "source": [
    "sum = np.sum(numerator, axis=1, keepdims=True)\n",
    "\n",
    "print(f\"Sum per line: \\n{sum}\")\n",
    "\n",
    "soft_assignments = numerator / sum\n",
    "\n",
    "print(\"\\nSoft assignments (probabilities):\\n\", soft_assignments)"
   ]
  },
  {
   "cell_type": "code",
   "execution_count": 44,
   "id": "5de63d0a",
   "metadata": {},
   "outputs": [
    {
     "name": "stdout",
     "output_type": "stream",
     "text": [
      "\n",
      "Assignment Table:\n",
      "         Cluster 0  Cluster 1\n",
      "Sample                      \n",
      "0        0.980583   0.019417\n",
      "1        0.980198   0.019802\n",
      "2        0.019802   0.980198\n",
      "3        0.015267   0.984733\n"
     ]
    }
   ],
   "source": [
    "# Optional: convert to DataFrame for readability\n",
    "df = pd.DataFrame(soft_assignments, columns=[\"Cluster 0\", \"Cluster 1\"])\n",
    "df.index.name = \"Sample\"\n",
    "print(\"\\nAssignment Table:\\n\", df)"
   ]
  }
 ],
 "metadata": {
  "kernelspec": {
   "display_name": "base",
   "language": "python",
   "name": "python3"
  },
  "language_info": {
   "codemirror_mode": {
    "name": "ipython",
    "version": 3
   },
   "file_extension": ".py",
   "mimetype": "text/x-python",
   "name": "python",
   "nbconvert_exporter": "python",
   "pygments_lexer": "ipython3",
   "version": "3.12.7"
  }
 },
 "nbformat": 4,
 "nbformat_minor": 5
}
