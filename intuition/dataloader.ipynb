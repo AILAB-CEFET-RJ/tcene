{
 "cells": [
  {
   "cell_type": "markdown",
   "id": "cef37616",
   "metadata": {},
   "source": [
    "### Teste com dataloader usando EMPENHOS"
   ]
  },
  {
   "cell_type": "code",
   "execution_count": 1,
   "id": "5ac764b3",
   "metadata": {},
   "outputs": [],
   "source": [
    "import os\n",
    "\n",
    "path = os.path.join(os.path.abspath('..'), 'features')\n",
    "X_testing_mode = os.path.join(path,'X_testing_mode.npy')"
   ]
  },
  {
   "cell_type": "code",
   "execution_count": 34,
   "id": "be1a742b",
   "metadata": {},
   "outputs": [],
   "source": [
    "import numpy as np\n",
    "\n",
    "dataset = np.load(X_testing_mode)"
   ]
  },
  {
   "cell_type": "code",
   "execution_count": null,
   "id": "d07fd9e1",
   "metadata": {},
   "outputs": [],
   "source": [
    "from torch.utils.data.dataloader import DataLoader, default_collate\n",
    "\n",
    "\n",
    "static_dataloader = DataLoader(\n",
    "    dataset,\n",
    "    batch_size=5,\n",
    "    collate_fn=default_collate, # Default\n",
    "    pin_memory=False, # Já é false por Default\n",
    "    shuffle=False, # os lotes serão na mesma ordem que no original\n",
    ")\n",
    "train_dataloader = DataLoader(\n",
    "    dataset,\n",
    "    batch_size=5,\n",
    "    collate_fn=default_collate, # Default\n",
    "    shuffle=True,\n",
    ")"
   ]
  },
  {
   "cell_type": "code",
   "execution_count": 40,
   "id": "f8a49a25",
   "metadata": {},
   "outputs": [
    {
     "name": "stdout",
     "output_type": "stream",
     "text": [
      "Batch 1:\n",
      "tensor([[-0.0289,  0.0650,  0.0181,  ...,  0.6330,  1.3127,  0.1316],\n",
      "        [-0.0024,  0.0126,  0.0572,  ...,  0.6330,  1.3127,  0.1316],\n",
      "        [-0.0069,  0.0960,  0.0292,  ...,  0.6330,  1.3127, -0.3730],\n",
      "        [-0.0069,  0.0960,  0.0292,  ...,  0.6330,  1.3127, -0.3730],\n",
      "        [-0.0069,  0.0960,  0.0292,  ...,  0.6330,  1.3127, -0.3730]])\n",
      "\n",
      "Batch 2:\n",
      "tensor([[-9.4528e-03,  8.3374e-02,  8.2581e-02,  ...,  6.3297e-01,\n",
      "          1.3127e+00, -3.7298e-01],\n",
      "        [-2.4357e-03,  1.2566e-02,  5.7220e-02,  ...,  6.3297e-01,\n",
      "          1.3127e+00, -3.7298e-01],\n",
      "        [-6.8550e-03,  9.6008e-02,  2.9175e-02,  ...,  6.3297e-01,\n",
      "         -1.0486e+00, -3.7508e-01],\n",
      "        [-1.2856e-03,  6.4270e-02,  5.7770e-02,  ...,  6.3297e-01,\n",
      "         -4.3892e-01, -3.7103e-01],\n",
      "        [-6.8550e-03,  9.6008e-02,  2.9175e-02,  ...,  6.3297e-01,\n",
      "         -4.3892e-01, -3.7103e-01]])\n",
      "\n",
      "Batch 3:\n",
      "tensor([[-0.0013,  0.0643,  0.0578,  ...,  0.6330, -0.4389, -0.3710],\n",
      "        [-0.0013,  0.0643,  0.0578,  ...,  0.6330, -0.4389, -0.3710],\n",
      "        [-0.0013,  0.0643,  0.0578,  ...,  0.6330, -0.4389, -0.3710],\n",
      "        [-0.0013,  0.0643,  0.0578,  ...,  0.6330, -0.4389, -0.3710],\n",
      "        [-0.0013,  0.0643,  0.0578,  ...,  0.6330, -0.4389, -0.3710]])\n",
      "\n",
      "Batch shape: torch.Size([5, 387])\n"
     ]
    }
   ],
   "source": [
    "for i, batch in enumerate(static_dataloader): # printar os primeiro 3 batches\n",
    "    print(f\"Batch {i+1}:\\n{batch}\\n\")\n",
    "    if i == 2:\n",
    "        break\n",
    "print(f\"Batch shape: {batch.shape}\")\n"
   ]
  },
  {
   "cell_type": "code",
   "execution_count": 47,
   "id": "d17fcd42",
   "metadata": {},
   "outputs": [
    {
     "data": {
      "text/plain": [
       "array([[-0.02885437,  0.06500244,  0.0181427 , ...,  0.63296866,\n",
       "         1.3126814 ,  0.13159929],\n",
       "       [-0.00243568,  0.01256561,  0.05722046, ...,  0.63296866,\n",
       "         1.3126814 ,  0.13159929],\n",
       "       [-0.00685501,  0.0960083 ,  0.0291748 , ...,  0.63296866,\n",
       "         1.3126814 , -0.3729792 ],\n",
       "       [-0.00685501,  0.0960083 ,  0.0291748 , ...,  0.63296866,\n",
       "         1.3126814 , -0.3729792 ],\n",
       "       [-0.00685501,  0.0960083 ,  0.0291748 , ...,  0.63296866,\n",
       "         1.3126814 , -0.3729792 ]], dtype=float32)"
      ]
     },
     "execution_count": 47,
     "metadata": {},
     "output_type": "execute_result"
    }
   ],
   "source": [
    "dataset[:5] # são os mesmos que printamos anteriormente, com o static_dataloader (shuffle=False)\n",
    "\n",
    "# Batch 1:\n",
    "# tensor([[-0.0289,  0.0650,  0.0181,  ...,  0.6330,  1.3127,  0.1316],\n",
    "#         [-0.0024,  0.0126,  0.0572,  ...,  0.6330,  1.3127,  0.1316],\n",
    "#         [-0.0069,  0.0960,  0.0292,  ...,  0.6330,  1.3127, -0.3730],\n",
    "#         [-0.0069,  0.0960,  0.0292,  ...,  0.6330,  1.3127, -0.3730],\n",
    "#         [-0.0069,  0.0960,  0.0292,  ...,  0.6330,  1.3127, -0.3730]])"
   ]
  },
  {
   "cell_type": "code",
   "execution_count": null,
   "id": "d1270ad3",
   "metadata": {},
   "outputs": [],
   "source": [
    "from tqdm import tqdm\n",
    "\n",
    "# Data iterator (nao sei para que)\n",
    "\n",
    "data_iterator = tqdm(\n",
    "        static_dataloader,\n",
    "        leave=True,\n",
    "        unit=\"batch\",\n",
    "        postfix={\n",
    "            \"epo\": -1,\n",
    "            \"acc\": \"%.4f\" % 0.0,\n",
    "            \"lss\": \"%.8f\" % 0.0,\n",
    "            \"dlb\": \"%.4f\" % -1,\n",
    "        },\n",
    "        disable=False,\n",
    "    )"
   ]
  }
 ],
 "metadata": {
  "kernelspec": {
   "display_name": "base",
   "language": "python",
   "name": "python3"
  },
  "language_info": {
   "codemirror_mode": {
    "name": "ipython",
    "version": 3
   },
   "file_extension": ".py",
   "mimetype": "text/x-python",
   "name": "python",
   "nbconvert_exporter": "python",
   "pygments_lexer": "ipython3",
   "version": "3.12.7"
  }
 },
 "nbformat": 4,
 "nbformat_minor": 5
}
