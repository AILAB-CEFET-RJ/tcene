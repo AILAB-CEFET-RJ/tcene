{
 "cells": [
  {
   "cell_type": "markdown",
   "id": "12162bde",
   "metadata": {},
   "source": [
    "# Intuição do algoritmo DEC (Deep Embedded Clustering)"
   ]
  },
  {
   "cell_type": "markdown",
   "id": "73c64e2c",
   "metadata": {},
   "source": [
    "### Instanciação da classe DEC"
   ]
  },
  {
   "cell_type": "code",
   "execution_count": null,
   "id": "964b3277",
   "metadata": {},
   "outputs": [],
   "source": [
    "from examples.empenhos_df import EMPENHOS\n",
    "    \n",
    "ds_train = EMPENHOS(\n",
    "    train=True, testing_mode=True\n",
    ")  # training dataset\n",
    "ds_val = EMPENHOS(\n",
    "    train=False, testing_mode=True\n",
    ")  # evaluation dataset"
   ]
  },
  {
   "cell_type": "code",
   "execution_count": 5,
   "id": "f5c164e4",
   "metadata": {},
   "outputs": [],
   "source": [
    "import torch\n",
    "\n",
    "model = torch.load(\"models/dec_model_full.pt\", weights_only=False, map_location=torch.device('cpu'))\n",
    "encoder = model.encoder"
   ]
  },
  {
   "cell_type": "code",
   "execution_count": null,
   "id": "e97e4b85",
   "metadata": {},
   "outputs": [],
   "source": [
    "# Criaremos o objeto DEC:\n",
    "from ptdec.dec import DEC\n",
    "\n",
    "model = DEC(cluster_number=51, hidden_dimension=56, encoder=encoder)\n",
    "\n",
    "# Esse objeto possui 5 variáveis:\n",
    "# self.encode\n",
    "# self.hidden_dimension -> 56\n",
    "# self.cluster_number   -> 51\n",
    "# self.alpha            -> 1.0\n",
    "# self.assignment = ClusterAssignment()"
   ]
  },
  {
   "cell_type": "code",
   "execution_count": null,
   "id": "ee271518",
   "metadata": {},
   "outputs": [
    {
     "name": "stdout",
     "output_type": "stream",
     "text": [
      "torch.Size([1000, 387])\n",
      "torch.Size([1000])\n",
      "torch.Size([2000, 1000])\n",
      "torch.Size([2000])\n",
      "torch.Size([2000, 2000])\n",
      "torch.Size([2000])\n",
      "torch.Size([56, 2000])\n",
      "torch.Size([56])\n",
      "torch.Size([51, 56])\n"
     ]
    }
   ],
   "source": [
    "model.assignment    # objeto da classe ClusterAssignment()\n",
    "                    # Essa classe inicializa os clusters_centers a partir da função xavier_uniform\n",
    "                    # e coloca esses centroides de shape [num_clusters, hidden_layer] dentro dos parâmetros de model\n",
    "\n",
    "for param in model.parameters():\n",
    "    print(param.shape)\n",
    "    # Dentro dos parâmetros, nós temos as camadas do encoder (8, ao todo)\n",
    "    # e uma camada [num_clusters, hidden_layer], que transforma o \n",
    "    # espaço dimensional de 'hidden_layer' para 'num_clusters'\n",
    "    "
   ]
  },
  {
   "cell_type": "code",
   "execution_count": null,
   "id": "946d6065",
   "metadata": {},
   "outputs": [],
   "source": [
    "# um batch de dados (num_samples, hidden_layer) será passado em forward() da classe ClusterAssignment()\n",
    "# e no fim, teremos uma matriz que indicará as probabilidades de designação de clusters.\n",
    "# return: [batch size, number of clusters]\n",
    "\n",
    "# Intuição disponível em /intuition/clusterassignment.ipynb"
   ]
  },
  {
   "cell_type": "markdown",
   "id": "335026e7",
   "metadata": {},
   "source": [
    "### Treinamento do DEC"
   ]
  },
  {
   "cell_type": "code",
   "execution_count": null,
   "id": "d6e3202d",
   "metadata": {},
   "outputs": [],
   "source": [
    "from torch.optim import SGD\n",
    "\n",
    "dec_optimizer = SGD(model.parameters(), lr=0.01, momentum=0.9)\n",
    "epochs_dec = 20\n",
    "train(\n",
    "    dataset=ds_train,\n",
    "    model=model,\n",
    "    epochs=epochs_dec,\n",
    "    batch_size=10,\n",
    "    optimizer=dec_optimizer,\n",
    "    stopping_delta=0.000001,\n",
    "    cuda=False,\n",
    "    evaluate_batch_size=1024, # ?\n",
    ")"
   ]
  }
 ],
 "metadata": {
  "kernelspec": {
   "display_name": "base",
   "language": "python",
   "name": "python3"
  },
  "language_info": {
   "codemirror_mode": {
    "name": "ipython",
    "version": 3
   },
   "file_extension": ".py",
   "mimetype": "text/x-python",
   "name": "python",
   "nbconvert_exporter": "python",
   "pygments_lexer": "ipython3",
   "version": "3.12.7"
  }
 },
 "nbformat": 4,
 "nbformat_minor": 5
}
